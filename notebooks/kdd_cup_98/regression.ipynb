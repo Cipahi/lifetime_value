{
  "cells": [
    {
      "cell_type": "code",
      "execution_count": 0,
      "metadata": {
        "colab": {},
        "colab_type": "code",
        "id": "gE76T8J7IsGC"
      },
      "outputs": [],
      "source": [
        "#@title Copyright 2019 The Lifetime Value Authors.\n",
        "# Licensed under the Apache License, Version 2.0 (the \"License\");\n",
        "# you may not use this file except in compliance with the License.\n",
        "# You may obtain a copy of the License at\n",
        "#\n",
        "#     https://www.apache.org/licenses/LICENSE-2.0\n",
        "#\n",
        "# Unless required by applicable law or agreed to in writing, software\n",
        "# distributed under the License is distributed on an \"AS IS\" BASIS,\n",
        "# WITHOUT WARRANTIES OR CONDITIONS OF ANY KIND, either express or implied.\n",
        "# See the License for the specific language governing permissions and\n",
        "# limitations under the License.\n",
        "# ============================================================================"
      ]
    },
    {
      "cell_type": "markdown",
      "metadata": {
        "colab_type": "text",
        "id": "sswTFWDv7HZd"
      },
      "source": [
        "# KDD Cup 98 LTV Prediction"
      ]
    },
    {
      "cell_type": "markdown",
      "metadata": {
        "colab_type": "text",
        "id": "PSr1mSJP7O1J"
      },
      "source": [
        "\u003ctable align=\"left\"\u003e\n",
        "  \u003ctd\u003e\n",
        "    \u003ca target=\"_blank\" href=\"https://colab.research.google.com/github/google/lifetime-value/blob/master/notebooks/kdd_cup_98/regression.ipynb\"\u003e\u003cimg src=\"https://www.tensorflow.org/images/colab_logo_32px.png\" /\u003eRun in Google Colab\u003c/a\u003e\n",
        "  \u003c/td\u003e\n",
        "  \u003ctd\u003e\n",
        "    \u003ca target=\"_blank\" href=\"https://github.com/google/lifetime-value/blob/master/notebooks/kdd_cup_98/regression.ipynb\"\u003e\u003cimg src=\"https://www.tensorflow.org/images/GitHub-Mark-32px.png\" /\u003eView source on GitHub\u003c/a\u003e\n",
        "  \u003c/td\u003e\n",
        "\u003c/table\u003e"
      ]
    },
    {
      "cell_type": "code",
      "execution_count": 0,
      "metadata": {
        "colab": {},
        "colab_type": "code",
        "id": "pBXE3Dz3NI4A"
      },
      "outputs": [],
      "source": [
        "\n",
        "\n",
        "import os\n",
        "\n",
        "import numpy as np\n",
        "import pandas as pd\n",
        "from scipy import stats\n",
        "import matplotlib.pyplot as plt\n",
        "import seaborn as sns\n",
        "import tensorflow as tf\n",
        "import tensorflow_probability as tfp\n",
        "from typing import Sequence\n",
        "\n",
        "# install and import ltv\n",
        "!pip install -q git+https://github.com/google/lifetime-value\n",
        "import lifetime_value as ltv"
      ]
    },
    {
      "cell_type": "code",
      "execution_count": 0,
      "metadata": {
        "colab": {},
        "colab_type": "code",
        "id": "Bq0Ah16lBmgV"
      },
      "outputs": [],
      "source": [
        "tfd = tfp.distributions\n",
        "tf.enable_eager_execution()\n",
        "%config InlineBackend.figure_format='retina'\n",
        "sns.set_style('whitegrid')"
      ]
    },
    {
      "cell_type": "markdown",
      "metadata": {
        "colab_type": "text",
        "id": "2qN319qZK3IG"
      },
      "source": [
        "## Configs"
      ]
    },
    {
      "cell_type": "code",
      "execution_count": 0,
      "metadata": {
        "colab": {},
        "colab_type": "code",
        "id": "hNy_ybw_K19n"
      },
      "outputs": [],
      "source": [
        "LOSS = 'ziln' # @param { isTemplate: true, type: 'string'} ['mse', 'ziln']\n",
        "LEARNING_RATE = 0.001  # @param { isTemplate: true}\n",
        "VERSION = 0 # @param { isTemplate: true, type: 'integer'}\n",
        "OUTPUT_CSV_FOLDER = '/tmp/lifetime-value/kdd_cup_98/result' # @param { isTemplate: true, type: 'string'}"
      ]
    },
    {
      "cell_type": "markdown",
      "metadata": {
        "colab_type": "text",
        "id": "mDSR921CCEcL"
      },
      "source": [
        "## Load data"
      ]
    },
    {
      "cell_type": "markdown",
      "metadata": {
        "colab_type": "text",
        "id": "lHxp4rOGI02Q"
      },
      "source": [
        "Download kdd_cup_98 data to /tmp/lifetime-value/kdd_cup_98"
      ]
    },
    {
      "cell_type": "code",
      "execution_count": 0,
      "metadata": {
        "colab": {},
        "colab_type": "code",
        "id": "Dg3qtgJyJpdi"
      },
      "outputs": [],
      "source": [
        "%%shell\n",
        "mkdir -p /tmp/lifetime-value/kdd_cup_98\n",
        "wget https://kdd.ics.uci.edu/databases/kddcup98/epsilon_mirror/cup98lrn.zip -P /tmp/lifetime-value/kdd_cup_98/\n",
        "wget https://kdd.ics.uci.edu/databases/kddcup98/epsilon_mirror/cup98val.zip -P /tmp/lifetime-value/kdd_cup_98/\n",
        "wget https://kdd.ics.uci.edu/databases/kddcup98/epsilon_mirror/valtargt.txt -P /tmp/lifetime-value/kdd_cup_98/\n",
        "cd /tmp/lifetime-value/kdd_cup_98/\n",
        "unzip cup98lrn.zip\n",
        "unzip cup98val.zip"
      ]
    },
    {
      "cell_type": "code",
      "execution_count": 0,
      "metadata": {
        "colab": {},
        "colab_type": "code",
        "id": "a_LnLmQQRlYF"
      },
      "outputs": [],
      "source": [
        "df_train = pd.read_csv('/tmp/lifetime-value/kdd_cup_98/cup98LRN.txt')\n",
        "num_train = df_train.shape[0]\n",
        "df_eval = pd.read_csv('/tmp/lifetime-value/kdd_cup_98/cup98VAL.txt')\n",
        "df_eval_target = pd.read_csv('/tmp/lifetime-value/kdd_cup_98/valtargt.txt')\n",
        "df_eval = df_eval.merge(df_eval_target, on='CONTROLN')"
      ]
    },
    {
      "cell_type": "code",
      "execution_count": 0,
      "metadata": {
        "colab": {},
        "colab_type": "code",
        "id": "ggQmy9wiP5M6"
      },
      "outputs": [],
      "source": [
        "df = pd.concat([df_train, df_eval], axis=0, sort=True)"
      ]
    },
    {
      "cell_type": "markdown",
      "metadata": {
        "colab_type": "text",
        "id": "0rgxHpIyjaMH"
      },
      "source": [
        "## Label distribution"
      ]
    },
    {
      "cell_type": "code",
      "execution_count": 0,
      "metadata": {
        "colab": {},
        "colab_type": "code",
        "id": "Xmpu_d3YjcFC"
      },
      "outputs": [],
      "source": [
        "y = df['TARGET_D'][:num_train]"
      ]
    },
    {
      "cell_type": "code",
      "execution_count": 0,
      "metadata": {
        "colab": {},
        "colab_type": "code",
        "id": "yMr2EDRyK5Sb"
      },
      "outputs": [],
      "source": [
        "def plot_hist_log_scale(y):\n",
        "  max_val = y.max() + 1. \n",
        "  ax = pd.Series(y).hist(\n",
        "      figsize=(8, 5), bins = 10 ** np.linspace(0., np.log10(max_val), 20))\n",
        "\n",
        "  plt.xlabel('Donation ($)')\n",
        "  plt.ylabel('Count')\n",
        "  # plt.title('Histogram of LTV')\n",
        "  plt.xticks(rotation='horizontal')\n",
        "  plt.legend(loc='upper left')\n",
        "  ax.set_xscale('log')\n",
        "  ax.grid(False)\n",
        "  # Hide the right and top spines\n",
        "  ax.spines['right'].set_visible(False)\n",
        "  ax.spines['top'].set_visible(False)\n",
        "  # Only show ticks on the left and bottom spines\n",
        "  ax.yaxis.set_ticks_position('left')\n",
        "  ax.xaxis.set_ticks_position('bottom')\n",
        "  plt.show()\n",
        "\n",
        "  fig = ax.get_figure()\n",
        "  output_file = tf.io.gfile.GFile(\n",
        "          '/tmp/lifetime-value/kdd_cup_98/histogram_kdd98_log_scale.pdf',\n",
        "          'wb')\n",
        "  fig.savefig(output_file, bbox_inches='tight', format='pdf')"
      ]
    },
    {
      "cell_type": "code",
      "execution_count": 0,
      "metadata": {
        "colab": {
          "height": 355
        },
        "colab_type": "code",
        "executionInfo": {
          "elapsed": 371,
          "status": "ok",
          "timestamp": 1575669899758,
          "user": {
            "displayName": "",
            "photoUrl": "",
            "userId": ""
          },
          "user_tz": 300
        },
        "id": "KbwCzGkBOWhH",
        "outputId": "c9de8cf1-0d2e-476a-9361-b755257baa20"
      },
      "outputs": [
        {
          "data": {
            "image/png": "[encoded data removed]",
            "text/plain": [
              "\u003cmatplotlib.figure.Figure at 0x24f6141d6110\u003e"
            ]
          },
          "metadata": {
            "image/png": {
              "height": 338,
              "width": 525
            },
            "tags": []
          },
          "output_type": "display_data"
        }
      ],
      "source": [
        "plot_hist_log_scale(y[y\u003e0])"
      ]
    },
    {
      "cell_type": "markdown",
      "metadata": {
        "colab_type": "text",
        "id": "1XXMLbnlCdlN"
      },
      "source": [
        "## Preprocess features"
      ]
    },
    {
      "cell_type": "markdown",
      "metadata": {
        "colab_type": "text",
        "id": "L1sBf_RSU3pR"
      },
      "source": [
        "### Vocab"
      ]
    },
    {
      "cell_type": "code",
      "execution_count": 0,
      "metadata": {
        "colab": {},
        "colab_type": "code",
        "id": "xB_ddsd_U_4e"
      },
      "outputs": [],
      "source": [
        "VOCAB_FEATURES = [\n",
        "    'ODATEDW',  # date of donor's first gift (YYMM)\n",
        "    'OSOURCE',  # donor acquisition mailing list\n",
        "    'TCODE',    # donor title code\n",
        "    'STATE',\n",
        "    'ZIP',\n",
        "    'DOMAIN',   # urbanicity level and socio-economic status of the neighborhood\n",
        "    'CLUSTER',  # socio-economic status\n",
        "    'GENDER',\n",
        "    'MAXADATE', # date of the most recent promotion received\n",
        "    'MINRDATE',\n",
        "    'LASTDATE',\n",
        "    'FISTDATE',\n",
        "    'RFA_2A',\n",
        "]"
      ]
    },
    {
      "cell_type": "code",
      "execution_count": 0,
      "metadata": {
        "colab": {},
        "colab_type": "code",
        "id": "f2oPZGVLRSPe"
      },
      "outputs": [],
      "source": [
        "df['ODATEDW'] = df['ODATEDW'].astype('str')\n",
        "df['TCODE'] = df['TCODE'].apply(\n",
        "    lambda x: '{:03d}'.format(x // 1000 if x \u003e 1000 else x))\n",
        "df['ZIP'] = df['ZIP'].str.slice(0, 5)\n",
        "df['MAXADATE'] = df['MAXADATE'].astype('str')\n",
        "df['MINRDATE'] = df['MINRDATE'].astype('str')\n",
        "df['LASTDATE'] = df['LASTDATE'].astype('str')\n",
        "df['FISTDATE'] = df['FISTDATE'].astype('str')"
      ]
    },
    {
      "cell_type": "code",
      "execution_count": 0,
      "metadata": {
        "colab": {},
        "colab_type": "code",
        "id": "isL9Ofv9JLAP"
      },
      "outputs": [],
      "source": [
        "def label_encoding(y, frequency_threshold=100):\n",
        "  value_counts = pd.value_counts(y)\n",
        "  categories = value_counts[\n",
        "      value_counts \u003e= frequency_threshold].index.to_numpy()\n",
        "  # 0 indicates the unknown category.\n",
        "  return pd.Categorical(y, categories=categories).codes + 1"
      ]
    },
    {
      "cell_type": "code",
      "execution_count": 0,
      "metadata": {
        "colab": {},
        "colab_type": "code",
        "id": "BgXGO5D0OdJP"
      },
      "outputs": [],
      "source": [
        "for key in VOCAB_FEATURES:\n",
        "  df[key] = label_encoding(df[key])"
      ]
    },
    {
      "cell_type": "markdown",
      "metadata": {
        "colab_type": "text",
        "id": "kZkmnJ93Zrjw"
      },
      "source": [
        "### Indicator"
      ]
    },
    {
      "cell_type": "code",
      "execution_count": 0,
      "metadata": {
        "colab": {},
        "colab_type": "code",
        "id": "tGBpMfaGhCD0"
      },
      "outputs": [],
      "source": [
        "MAIL_ORDER_RESPONSES = [\n",
        "    'MBCRAFT',\n",
        "    'MBGARDEN',\n",
        "    'MBBOOKS',\n",
        "    'MBCOLECT',\n",
        "    'MAGFAML',\n",
        "    'MAGFEM',\n",
        "    'MAGMALE',\n",
        "    'PUBGARDN',\n",
        "    'PUBCULIN',\n",
        "    'PUBHLTH',\n",
        "    'PUBDOITY',\n",
        "    'PUBNEWFN',\n",
        "    'PUBPHOTO',\n",
        "    'PUBOPP',\n",
        "    'RFA_2F',\n",
        "]"
      ]
    },
    {
      "cell_type": "code",
      "execution_count": 0,
      "metadata": {
        "colab": {},
        "colab_type": "code",
        "id": "4V-DeOZFZhjB"
      },
      "outputs": [],
      "source": [
        "INDICATOR_FEATURES = [\n",
        "    'AGE',  # age decile, 0 indicates unknown\n",
        "    'NUMCHLD',\n",
        "    'INCOME',\n",
        "    'WEALTH1',\n",
        "    'HIT',\n",
        "] + MAIL_ORDER_RESPONSES"
      ]
    },
    {
      "cell_type": "code",
      "execution_count": 0,
      "metadata": {
        "colab": {},
        "colab_type": "code",
        "id": "U9y5qA1vZ0kz"
      },
      "outputs": [],
      "source": [
        "df['AGE'] = pd.qcut(df['AGE'].values, 10).codes + 1\n",
        "df['NUMCHLD'] = df['NUMCHLD'].apply(lambda x: 0 if np.isnan(x) else int(x))\n",
        "df['INCOME'] = df['INCOME'].apply(lambda x: 0 if np.isnan(x) else int(x))\n",
        "df['WEALTH1'] = df['WEALTH1'].apply(lambda x: 0 if np.isnan(x) else int(x) + 1)\n",
        "df['HIT'] = pd.qcut(df['HIT'].values, q=50, duplicates='drop').codes\n",
        "\n",
        "for col in MAIL_ORDER_RESPONSES:\n",
        "  df[col] = pd.qcut(df[col].values, q=20, duplicates='drop').codes + 1"
      ]
    },
    {
      "cell_type": "markdown",
      "metadata": {
        "colab_type": "text",
        "id": "8DOO_2a-U6gr"
      },
      "source": [
        "### Numeric"
      ]
    },
    {
      "cell_type": "code",
      "execution_count": 0,
      "metadata": {
        "colab": {},
        "colab_type": "code",
        "id": "rqVteSLDiLVr"
      },
      "outputs": [],
      "source": [
        "NUMERIC_FEATURES = [\n",
        "    # binary\n",
        "    'MAILCODE',  # bad address\n",
        "    'NOEXCH',    # do not exchange\n",
        "    'RECINHSE',  # donor has given to PVA's in house program\n",
        "    'RECP3',     # donor has given to PVA's P3 program\n",
        "    'RECPGVG',   # planned giving record\n",
        "    'RECSWEEP',  # sweepstakes record\n",
        "    'HOMEOWNR',  # home owner\n",
        "    'CHILD03',\n",
        "    'CHILD07',\n",
        "    'CHILD12',\n",
        "    'CHILD18',\n",
        "\n",
        "    # continuous\n",
        "    'CARDPROM',\n",
        "    'NUMPROM',\n",
        "    'CARDPM12',\n",
        "    'NUMPRM12',\n",
        "    'RAMNTALL',\n",
        "    'NGIFTALL',\n",
        "    'MINRAMNT',\n",
        "    'MAXRAMNT',\n",
        "    'LASTGIFT',\n",
        "    'AVGGIFT',\n",
        "]"
      ]
    },
    {
      "cell_type": "code",
      "execution_count": 0,
      "metadata": {
        "colab": {},
        "colab_type": "code",
        "id": "xMRP05Ztic0A"
      },
      "outputs": [],
      "source": [
        "df['MAILCODE'] = (df['MAILCODE'] == 'B').astype('float32')\n",
        "df['PVASTATE'] = df['PVASTATE'].isin(['P', 'E']).astype('float32')\n",
        "df['NOEXCH'] = df['NOEXCH'].isin(['X', '1']).astype('float32')\n",
        "df['RECINHSE'] = (df['RECINHSE'] == 'X').astype('float32')\n",
        "df['RECP3'] = (df['RECP3'] == 'X').astype('float32')\n",
        "df['RECPGVG'] = (df['RECPGVG'] == 'X').astype('float32')\n",
        "df['RECSWEEP'] = (df['RECSWEEP'] == 'X').astype('float32')\n",
        "df['HOMEOWNR'] = (df['HOMEOWNR'] == 'H').astype('float32')\n",
        "df['CHILD03'] = df['CHILD03'].isin(['M', 'F', 'B']).astype('float32')\n",
        "df['CHILD07'] = df['CHILD07'].isin(['M', 'F', 'B']).astype('float32')\n",
        "df['CHILD12'] = df['CHILD12'].isin(['M', 'F', 'B']).astype('float32')\n",
        "df['CHILD18'] = df['CHILD18'].isin(['M', 'F', 'B']).astype('float32')\n",
        "\n",
        "df['CARDPROM'] = df['CARDPROM'] / 100\n",
        "df['NUMPROM'] = df['NUMPROM'] / 100\n",
        "df['CARDPM12'] = df['CARDPM12'] / 100\n",
        "df['NUMPRM12'] = df['NUMPRM12'] / 100\n",
        "df['RAMNTALL'] = np.log1p(df['RAMNTALL'])\n",
        "df['NGIFTALL'] = np.log1p(df['NGIFTALL'])\n",
        "df['MINRAMNT'] = np.log1p(df['MINRAMNT'])\n",
        "df['MAXRAMNT'] = np.log1p(df['MAXRAMNT'])\n",
        "df['LASTGIFT'] = np.log1p(df['LASTGIFT'])\n",
        "df['AVGGIFT'] = np.log1p(df['AVGGIFT'])"
      ]
    },
    {
      "cell_type": "markdown",
      "metadata": {
        "colab_type": "text",
        "id": "GoLg1PvWuCT_"
      },
      "source": [
        "### All"
      ]
    },
    {
      "cell_type": "code",
      "execution_count": 0,
      "metadata": {
        "colab": {},
        "colab_type": "code",
        "id": "lSnNgjBCuJdb"
      },
      "outputs": [],
      "source": [
        "CATEGORICAL_FEATURES = VOCAB_FEATURES + INDICATOR_FEATURES\n",
        "ALL_FEATURES = CATEGORICAL_FEATURES + NUMERIC_FEATURES"
      ]
    },
    {
      "cell_type": "markdown",
      "metadata": {
        "colab_type": "text",
        "id": "8HJBvvCxRPg3"
      },
      "source": [
        "## Train/eval split"
      ]
    },
    {
      "cell_type": "code",
      "execution_count": 0,
      "metadata": {
        "colab": {},
        "colab_type": "code",
        "id": "N7BXLB1eHovl"
      },
      "outputs": [],
      "source": [
        "def dnn_split(df):\n",
        "  df_train = df.iloc[:num_train]\n",
        "  df_eval = df.iloc[num_train:]\n",
        "\n",
        "  def feature_dict(df):\n",
        "    features = {k: v.values for k, v in dict(df[CATEGORICAL_FEATURES]).items()}\n",
        "    features['numeric'] = df[NUMERIC_FEATURES].astype('float32').values\n",
        "    return features\n",
        "\n",
        "  x_train, y_train = feature_dict(df_train), df_train['TARGET_D'].astype(\n",
        "      'float32').values\n",
        "  x_eval, y_eval = feature_dict(df_eval), df_eval['TARGET_D'].astype(\n",
        "      'float32').values\n",
        "\n",
        "  return x_train, x_eval, y_train, y_eval"
      ]
    },
    {
      "cell_type": "markdown",
      "metadata": {
        "colab_type": "text",
        "id": "4yw6fekBtX7X"
      },
      "source": [
        "## Model"
      ]
    },
    {
      "cell_type": "code",
      "execution_count": 0,
      "metadata": {
        "colab": {},
        "colab_type": "code",
        "id": "_rIuO0XYtZH2"
      },
      "outputs": [],
      "source": [
        "def embedding_dim(x):\n",
        "  return int(x**.25) + 1\n",
        "\n",
        "\n",
        "def embedding_layer(vocab_size):\n",
        "  return tf.keras.Sequential([\n",
        "      tf.keras.layers.Embedding(\n",
        "          input_dim=vocab_size,\n",
        "          output_dim=embedding_dim(vocab_size),\n",
        "          input_length=1),\n",
        "      tf.keras.layers.Flatten(),\n",
        "  ])\n",
        "\n",
        "\n",
        "def dnn_model(output_units):\n",
        "  numeric_input = tf.keras.layers.Input(\n",
        "      shape=(len(NUMERIC_FEATURES),), name='numeric')\n",
        "\n",
        "  embedding_inputs = [\n",
        "      tf.keras.layers.Input(shape=(1,), name=key, dtype=np.int64)\n",
        "      for key in CATEGORICAL_FEATURES\n",
        "  ]\n",
        "\n",
        "  embedding_outputs = [\n",
        "      embedding_layer(vocab_size=df[key].max() + 1)(input)\n",
        "      for key, input in zip(CATEGORICAL_FEATURES, embedding_inputs)\n",
        "  ]\n",
        "\n",
        "  deep_input = tf.keras.layers.concatenate([numeric_input] + embedding_outputs)\n",
        "  deep_model = tf.keras.Sequential([\n",
        "      tf.keras.layers.Dense(128, activation='relu'),\n",
        "      tf.keras.layers.Dense(128, activation='relu'),\n",
        "      tf.keras.layers.Dense(64, activation='relu'),\n",
        "      tf.keras.layers.Dense(64, activation='relu'),\n",
        "      tf.keras.layers.Dense(units=output_units),\n",
        "  ])\n",
        "  return tf.keras.Model(\n",
        "      inputs=[numeric_input] + embedding_inputs, outputs=deep_model(deep_input))"
      ]
    },
    {
      "cell_type": "markdown",
      "metadata": {
        "colab_type": "text",
        "id": "G5h7X6botcHl"
      },
      "source": [
        "## Loss"
      ]
    },
    {
      "cell_type": "code",
      "execution_count": 0,
      "metadata": {
        "colab": {},
        "colab_type": "code",
        "id": "iJ9gpkC6tgP0"
      },
      "outputs": [],
      "source": [
        "if LOSS == 'mse':\n",
        "  loss = tf.keras.losses.MeanSquaredError()\n",
        "  output_units = 1\n",
        "\n",
        "if LOSS == 'ziln':\n",
        "  loss = ltv.zero_inflated_lognormal_loss\n",
        "  output_units = 3"
      ]
    },
    {
      "cell_type": "code",
      "execution_count": 0,
      "metadata": {
        "colab": {},
        "colab_type": "code",
        "id": "_afFfIritjCM"
      },
      "outputs": [],
      "source": [
        "x_train, x_eval, y_train, y_eval = dnn_split(df)\n",
        "model = dnn_model(output_units)"
      ]
    },
    {
      "cell_type": "code",
      "execution_count": 0,
      "metadata": {
        "colab": {},
        "colab_type": "code",
        "id": "Qj3kI7pyVwzO"
      },
      "outputs": [],
      "source": [
        "model.compile(optimizer=tf.keras.optimizers.Nadam(lr=LEARNING_RATE), loss=loss)"
      ]
    },
    {
      "cell_type": "markdown",
      "metadata": {
        "colab_type": "text",
        "id": "KZSYxgWdwiXC"
      },
      "source": [
        "## Train"
      ]
    },
    {
      "cell_type": "code",
      "execution_count": 0,
      "metadata": {
        "colab": {},
        "colab_type": "code",
        "id": "Nwj9h5ysQDLp"
      },
      "outputs": [],
      "source": [
        "callbacks = [\n",
        "    tf.keras.callbacks.ReduceLROnPlateau(monitor='val_loss', min_lr=1e-6),\n",
        "    tf.keras.callbacks.EarlyStopping(monitor='val_loss', patience=10),\n",
        "]"
      ]
    },
    {
      "cell_type": "code",
      "execution_count": 0,
      "metadata": {
        "colab": {
          "height": 672
        },
        "colab_type": "code",
        "executionInfo": {
          "elapsed": 25814,
          "status": "ok",
          "timestamp": 1574346431087,
          "user": {
            "displayName": "",
            "photoUrl": "",
            "userId": ""
          },
          "user_tz": 300
        },
        "id": "Vb5Tnld6hsfx",
        "outputId": "b102f5e8-e550-4fd7-9e75-5f6e43199cef"
      },
      "outputs": [
        {
          "name": "stdout",
          "output_type": "stream",
          "text": [
            "Train on 95412 samples, validate on 96367 samples\n",
            "Epoch 1/200\n",
            "95412/95412 - 4s - loss: 0.4750 - val_loss: 0.3570\n",
            "Epoch 2/200\n",
            "95412/95412 - 1s - loss: 0.3590 - val_loss: 0.3538\n",
            "Epoch 3/200\n",
            "95412/95412 - 1s - loss: 0.3547 - val_loss: 0.3549\n",
            "Epoch 4/200\n",
            "95412/95412 - 1s - loss: 0.3542 - val_loss: 0.3511\n",
            "Epoch 5/200\n",
            "95412/95412 - 1s - loss: 0.3509 - val_loss: 0.3704\n",
            "Epoch 6/200\n",
            "95412/95412 - 1s - loss: 0.3508 - val_loss: 0.3560\n",
            "Epoch 7/200\n",
            "95412/95412 - 1s - loss: 0.3488 - val_loss: 0.3560\n",
            "Epoch 8/200\n",
            "95412/95412 - 1s - loss: 0.3460 - val_loss: 0.3562\n",
            "Epoch 9/200\n",
            "95412/95412 - 1s - loss: 0.3449 - val_loss: 0.3505\n",
            "Epoch 10/200\n",
            "95412/95412 - 1s - loss: 0.3446 - val_loss: 0.3539\n",
            "Epoch 11/200\n",
            "95412/95412 - 1s - loss: 0.3413 - val_loss: 0.3563\n",
            "Epoch 12/200\n",
            "95412/95412 - 1s - loss: 0.3416 - val_loss: 0.3541\n",
            "Epoch 13/200\n",
            "95412/95412 - 1s - loss: 0.3410 - val_loss: 0.3528\n",
            "Epoch 14/200\n",
            "95412/95412 - 1s - loss: 0.3388 - val_loss: 0.3601\n",
            "Epoch 15/200\n",
            "95412/95412 - 1s - loss: 0.3398 - val_loss: 0.3578\n",
            "Epoch 16/200\n",
            "95412/95412 - 1s - loss: 0.3384 - val_loss: 0.3532\n",
            "Epoch 17/200\n",
            "95412/95412 - 1s - loss: 0.3367 - val_loss: 0.3614\n",
            "Epoch 18/200\n",
            "95412/95412 - 1s - loss: 0.3381 - val_loss: 0.3588\n",
            "Epoch 19/200\n",
            "95412/95412 - 1s - loss: 0.3392 - val_loss: 0.3573\n"
          ]
        }
      ],
      "source": [
        "history = model.fit(\n",
        "    x=x_train,\n",
        "    y=y_train,\n",
        "    batch_size=2048,\n",
        "    epochs=200,\n",
        "    verbose=2,\n",
        "    callbacks=callbacks,\n",
        "    validation_data=(x_eval, y_eval)).history"
      ]
    },
    {
      "cell_type": "code",
      "execution_count": 0,
      "metadata": {
        "colab": {
          "height": 279
        },
        "colab_type": "code",
        "executionInfo": {
          "elapsed": 145,
          "status": "ok",
          "timestamp": 1574346431309,
          "user": {
            "displayName": "",
            "photoUrl": "",
            "userId": ""
          },
          "user_tz": 300
        },
        "id": "J1sLSUdgvfa6",
        "outputId": "57feb0a2-a7b7-470d-f06f-ce74c8945ccd"
      },
      "outputs": [
        {
          "data": {
            "image/png": "[encoded data removed]",
            "text/plain": [
              "\u003cmatplotlib.figure.Figure at 0x3c9619518950\u003e"
            ]
          },
          "metadata": {
            "image/png": {
              "height": 262,
              "width": 390
            },
            "tags": []
          },
          "output_type": "display_data"
        }
      ],
      "source": [
        "pd.DataFrame(history)[['loss', 'val_loss']].plot();"
      ]
    },
    {
      "cell_type": "markdown",
      "metadata": {
        "colab_type": "text",
        "id": "jRKuZBqhvhT9"
      },
      "source": [
        "## Eval"
      ]
    },
    {
      "cell_type": "code",
      "execution_count": 0,
      "metadata": {
        "colab": {},
        "colab_type": "code",
        "id": "q9_zNMd3vjNk"
      },
      "outputs": [],
      "source": [
        "if LOSS == 'mse':\n",
        "  y_pred = model.predict(x=x_eval, batch_size=1024).flatten()\n",
        "\n",
        "if LOSS == 'ziln':\n",
        "  logits = model.predict(x=x_eval, batch_size=1024)\n",
        "  y_pred = ltv.zero_inflated_lognormal_pred(logits).numpy().flatten()"
      ]
    },
    {
      "cell_type": "markdown",
      "metadata": {
        "colab_type": "text",
        "id": "SkfkUMUvUu_E"
      },
      "source": [
        "### Total Profit"
      ]
    },
    {
      "cell_type": "code",
      "execution_count": 0,
      "metadata": {
        "colab": {},
        "colab_type": "code",
        "id": "AwfWAp8WQuns"
      },
      "outputs": [],
      "source": [
        "unit_costs = [0.4, 0.5, 0.6, 0.68, 0.7, 0.8, 0.9, 1.0]"
      ]
    },
    {
      "cell_type": "code",
      "execution_count": 0,
      "metadata": {
        "colab": {
          "height": 34
        },
        "colab_type": "code",
        "executionInfo": {
          "elapsed": 49,
          "status": "ok",
          "timestamp": 1574346432560,
          "user": {
            "displayName": "",
            "photoUrl": "",
            "userId": ""
          },
          "user_tz": 300
        },
        "id": "zqi91dfCUxpx",
        "outputId": "8085071c-7ce8-4dcc-8b56-33eddc4ecfac"
      },
      "outputs": [
        {
          "data": {
            "text/plain": [
              "[79997, 68684, 57260, 48432, 46332, 36488, 27858, 20799]"
            ]
          },
          "execution_count": 31,
          "metadata": {
            "tags": []
          },
          "output_type": "execute_result"
        }
      ],
      "source": [
        "num_mailed = [np.sum(y_pred \u003e v) for v in unit_costs]\n",
        "num_mailed"
      ]
    },
    {
      "cell_type": "code",
      "execution_count": 0,
      "metadata": {
        "colab": {
          "height": 34
        },
        "colab_type": "code",
        "executionInfo": {
          "elapsed": 55,
          "status": "ok",
          "timestamp": 1574346432670,
          "user": {
            "displayName": "",
            "photoUrl": "",
            "userId": ""
          },
          "user_tz": 300
        },
        "id": "ZgFjZUcuhScv",
        "outputId": "b101ec33-e695-4591-dc04-b977baa51a44"
      },
      "outputs": [
        {
          "data": {
            "text/plain": [
              "10560.074"
            ]
          },
          "execution_count": 32,
          "metadata": {
            "tags": []
          },
          "output_type": "execute_result"
        }
      ],
      "source": [
        "baseline_total_profit = np.sum(y_eval - 0.68)\n",
        "baseline_total_profit"
      ]
    },
    {
      "cell_type": "code",
      "execution_count": 0,
      "metadata": {
        "colab": {
          "height": 151
        },
        "colab_type": "code",
        "executionInfo": {
          "elapsed": 80,
          "status": "ok",
          "timestamp": 1574346432799,
          "user": {
            "displayName": "",
            "photoUrl": "",
            "userId": ""
          },
          "user_tz": 300
        },
        "id": "VwsFnin5U-R9",
        "outputId": "b1f2727d-79f5-4f9a-a6ce-a09b650b3b18"
      },
      "outputs": [
        {
          "data": {
            "text/plain": [
              "[36429.336,\n",
              " 27306.64,\n",
              " 19300.139,\n",
              " 14734.877,\n",
              " 13681.24,\n",
              " 9360.869,\n",
              " 6448.3027,\n",
              " 4785.0]"
            ]
          },
          "execution_count": 33,
          "metadata": {
            "tags": []
          },
          "output_type": "execute_result"
        }
      ],
      "source": [
        "total_profits = [np.sum(y_eval[y_pred \u003e v] - v) for v in unit_costs]\n",
        "total_profits"
      ]
    },
    {
      "cell_type": "markdown",
      "metadata": {
        "colab_type": "text",
        "id": "zROhsEWxnA5u"
      },
      "source": [
        "### Gini Coefficient"
      ]
    },
    {
      "cell_type": "code",
      "execution_count": 0,
      "metadata": {
        "colab": {},
        "colab_type": "code",
        "id": "gRsJ7y-632h_"
      },
      "outputs": [],
      "source": [
        "gain = pd.DataFrame({\n",
        "    'lorenz': ltv.cumulative_true(y_eval, y_eval),\n",
        "    'baseline': ltv.cumulative_true(y_eval, x_eval['numeric'][:, 19]),\n",
        "    'model': ltv.cumulative_true(y_eval, y_pred),\n",
        "})"
      ]
    },
    {
      "cell_type": "code",
      "execution_count": 0,
      "metadata": {
        "colab": {},
        "colab_type": "code",
        "id": "yg-ndbve4AL_"
      },
      "outputs": [],
      "source": [
        "num_customers = np.float32(gain.shape[0])\n",
        "gain['cumulative_customer'] = (np.arange(num_customers) + 1.) / num_customers"
      ]
    },
    {
      "cell_type": "code",
      "execution_count": 0,
      "metadata": {
        "colab": {
          "height": 361
        },
        "colab_type": "code",
        "executionInfo": {
          "elapsed": 246,
          "status": "ok",
          "timestamp": 1574346433299,
          "user": {
            "displayName": "",
            "photoUrl": "",
            "userId": ""
          },
          "user_tz": 300
        },
        "id": "WEoAvuCj4OVy",
        "outputId": "031558ef-8a9d-48d8-980e-62fd2dda0017"
      },
      "outputs": [
        {
          "data": {
            "image/png": "[encoded data removed]",
            "text/plain": [
              "\u003cmatplotlib.figure.Figure at 0x3c961b75a950\u003e"
            ]
          },
          "metadata": {
            "image/png": {
              "height": 344,
              "width": 514
            },
            "tags": []
          },
          "output_type": "display_data"
        }
      ],
      "source": [
        "ax = gain[[\n",
        "    'cumulative_customer',\n",
        "    'lorenz',\n",
        "    'baseline',\n",
        "    'model',\n",
        "]].plot(\n",
        "    x='cumulative_customer', figsize=(8, 5), legend=True)\n",
        "\n",
        "ax.legend(['Groundtruth', 'Baseline', 'Model'], loc='lower right')\n",
        "\n",
        "ax.set_xlabel('Cumulative Fraction of Customers')\n",
        "ax.set_xticks(np.arange(0, 1.1, 0.1))\n",
        "ax.set_xlim((0, 1.))\n",
        "\n",
        "ax.set_ylabel('Cumulative Fraction of Total Lifetime Value')\n",
        "ax.set_yticks(np.arange(0, 1.1, 0.1))\n",
        "ax.set_ylim((0, 1.05))\n",
        "ax.set_title('Gain Chart');"
      ]
    },
    {
      "cell_type": "code",
      "execution_count": 0,
      "metadata": {
        "colab": {
          "height": 136
        },
        "colab_type": "code",
        "executionInfo": {
          "elapsed": 630,
          "status": "ok",
          "timestamp": 1574346434025,
          "user": {
            "displayName": "",
            "photoUrl": "",
            "userId": ""
          },
          "user_tz": 300
        },
        "id": "kzPqaiNO4iWC",
        "outputId": "2fa8db69-ebb8-4681-9e54-78c98a81708c"
      },
      "outputs": [
        {
          "data": {
            "text/html": [
              "\u003cdiv\u003e\n",
              "\u003cstyle scoped\u003e\n",
              "    .dataframe tbody tr th:only-of-type {\n",
              "        vertical-align: middle;\n",
              "    }\n",
              "\n",
              "    .dataframe tbody tr th {\n",
              "        vertical-align: top;\n",
              "    }\n",
              "\n",
              "    .dataframe thead th {\n",
              "        text-align: right;\n",
              "    }\n",
              "\u003c/style\u003e\n",
              "\u003ctable border=\"1\" class=\"dataframe\"\u003e\n",
              "  \u003cthead\u003e\n",
              "    \u003ctr style=\"text-align: right;\"\u003e\n",
              "      \u003cth\u003e\u003c/th\u003e\n",
              "      \u003cth\u003eraw\u003c/th\u003e\n",
              "      \u003cth\u003enormalized\u003c/th\u003e\n",
              "    \u003c/tr\u003e\n",
              "  \u003c/thead\u003e\n",
              "  \u003ctbody\u003e\n",
              "    \u003ctr\u003e\n",
              "      \u003cth\u003elorenz\u003c/th\u003e\n",
              "      \u003ctd\u003e0.967057\u003c/td\u003e\n",
              "      \u003ctd\u003e1.000000\u003c/td\u003e\n",
              "    \u003c/tr\u003e\n",
              "    \u003ctr\u003e\n",
              "      \u003cth\u003ebaseline\u003c/th\u003e\n",
              "      \u003ctd\u003e0.125138\u003c/td\u003e\n",
              "      \u003ctd\u003e0.129401\u003c/td\u003e\n",
              "    \u003c/tr\u003e\n",
              "    \u003ctr\u003e\n",
              "      \u003cth\u003emodel\u003c/th\u003e\n",
              "      \u003ctd\u003e0.188237\u003c/td\u003e\n",
              "      \u003ctd\u003e0.194649\u003c/td\u003e\n",
              "    \u003c/tr\u003e\n",
              "  \u003c/tbody\u003e\n",
              "\u003c/table\u003e\n",
              "\u003c/div\u003e"
            ],
            "text/plain": [
              "               raw  normalized\n",
              "lorenz    0.967057    1.000000\n",
              "baseline  0.125138    0.129401\n",
              "model     0.188237    0.194649"
            ]
          },
          "execution_count": 37,
          "metadata": {
            "tags": []
          },
          "output_type": "execute_result"
        }
      ],
      "source": [
        "gini = ltv.gini_from_gain(gain[['lorenz', 'baseline', 'model']])\n",
        "gini"
      ]
    },
    {
      "cell_type": "markdown",
      "metadata": {
        "colab_type": "text",
        "id": "S84RitIa9PBu"
      },
      "source": [
        "### Calibration"
      ]
    },
    {
      "cell_type": "code",
      "execution_count": 0,
      "metadata": {
        "colab": {
          "height": 373
        },
        "colab_type": "code",
        "executionInfo": {
          "elapsed": 79,
          "status": "ok",
          "timestamp": 1574346434119,
          "user": {
            "displayName": "",
            "photoUrl": "",
            "userId": ""
          },
          "user_tz": 300
        },
        "id": "X7sKbsEf6RvF",
        "outputId": "e03f8f82-1240-4562-c3e4-b1ac576231da"
      },
      "outputs": [
        {
          "data": {
            "text/html": [
              "\u003cdiv\u003e\n",
              "\u003cstyle scoped\u003e\n",
              "    .dataframe tbody tr th:only-of-type {\n",
              "        vertical-align: middle;\n",
              "    }\n",
              "\n",
              "    .dataframe tbody tr th {\n",
              "        vertical-align: top;\n",
              "    }\n",
              "\n",
              "    .dataframe thead th {\n",
              "        text-align: right;\n",
              "    }\n",
              "\u003c/style\u003e\n",
              "\u003ctable border=\"1\" class=\"dataframe\"\u003e\n",
              "  \u003cthead\u003e\n",
              "    \u003ctr style=\"text-align: right;\"\u003e\n",
              "      \u003cth\u003e\u003c/th\u003e\n",
              "      \u003cth\u003elabel_mean\u003c/th\u003e\n",
              "      \u003cth\u003enormalized_mae\u003c/th\u003e\n",
              "      \u003cth\u003enormalized_rmse\u003c/th\u003e\n",
              "      \u003cth\u003epred_mean\u003c/th\u003e\n",
              "      \u003cth\u003edecile_mape\u003c/th\u003e\n",
              "    \u003c/tr\u003e\n",
              "    \u003ctr\u003e\n",
              "      \u003cth\u003edecile\u003c/th\u003e\n",
              "      \u003cth\u003e\u003c/th\u003e\n",
              "      \u003cth\u003e\u003c/th\u003e\n",
              "      \u003cth\u003e\u003c/th\u003e\n",
              "      \u003cth\u003e\u003c/th\u003e\n",
              "      \u003cth\u003e\u003c/th\u003e\n",
              "    \u003c/tr\u003e\n",
              "  \u003c/thead\u003e\n",
              "  \u003ctbody\u003e\n",
              "    \u003ctr\u003e\n",
              "      \u003cth\u003e0\u003c/th\u003e\n",
              "      \u003ctd\u003e0.446768\u003c/td\u003e\n",
              "      \u003ctd\u003e1.518032\u003c/td\u003e\n",
              "      \u003ctd\u003e6.234249\u003c/td\u003e\n",
              "      \u003ctd\u003e0.253326\u003c/td\u003e\n",
              "      \u003ctd\u003e0.432981\u003c/td\u003e\n",
              "    \u003c/tr\u003e\n",
              "    \u003ctr\u003e\n",
              "      \u003cth\u003e1\u003c/th\u003e\n",
              "      \u003ctd\u003e0.500363\u003c/td\u003e\n",
              "      \u003ctd\u003e1.696175\u003c/td\u003e\n",
              "      \u003ctd\u003e5.785942\u003c/td\u003e\n",
              "      \u003ctd\u003e0.379958\u003c/td\u003e\n",
              "      \u003ctd\u003e0.240635\u003c/td\u003e\n",
              "    \u003c/tr\u003e\n",
              "    \u003ctr\u003e\n",
              "      \u003cth\u003e2\u003c/th\u003e\n",
              "      \u003ctd\u003e0.629462\u003c/td\u003e\n",
              "      \u003ctd\u003e1.669090\u003c/td\u003e\n",
              "      \u003ctd\u003e5.069715\u003c/td\u003e\n",
              "      \u003ctd\u003e0.468928\u003c/td\u003e\n",
              "      \u003ctd\u003e0.255034\u003c/td\u003e\n",
              "    \u003c/tr\u003e\n",
              "    \u003ctr\u003e\n",
              "      \u003cth\u003e3\u003c/th\u003e\n",
              "      \u003ctd\u003e0.708779\u003c/td\u003e\n",
              "      \u003ctd\u003e1.699808\u003c/td\u003e\n",
              "      \u003ctd\u003e5.270791\u003c/td\u003e\n",
              "      \u003ctd\u003e0.552951\u003c/td\u003e\n",
              "      \u003ctd\u003e0.219853\u003c/td\u003e\n",
              "    \u003c/tr\u003e\n",
              "    \u003ctr\u003e\n",
              "      \u003cth\u003e4\u003c/th\u003e\n",
              "      \u003ctd\u003e0.687195\u003c/td\u003e\n",
              "      \u003ctd\u003e1.835328\u003c/td\u003e\n",
              "      \u003ctd\u003e5.020494\u003c/td\u003e\n",
              "      \u003ctd\u003e0.638257\u003c/td\u003e\n",
              "      \u003ctd\u003e0.071215\u003c/td\u003e\n",
              "    \u003c/tr\u003e\n",
              "    \u003ctr\u003e\n",
              "      \u003cth\u003e5\u003c/th\u003e\n",
              "      \u003ctd\u003e0.760416\u003c/td\u003e\n",
              "      \u003ctd\u003e1.862291\u003c/td\u003e\n",
              "      \u003ctd\u003e5.044576\u003c/td\u003e\n",
              "      \u003ctd\u003e0.729008\u003c/td\u003e\n",
              "      \u003ctd\u003e0.041303\u003c/td\u003e\n",
              "    \u003c/tr\u003e\n",
              "    \u003ctr\u003e\n",
              "      \u003cth\u003e6\u003c/th\u003e\n",
              "      \u003ctd\u003e0.781443\u003c/td\u003e\n",
              "      \u003ctd\u003e1.955214\u003c/td\u003e\n",
              "      \u003ctd\u003e4.946170\u003c/td\u003e\n",
              "      \u003ctd\u003e0.830943\u003c/td\u003e\n",
              "      \u003ctd\u003e0.063344\u003c/td\u003e\n",
              "    \u003c/tr\u003e\n",
              "    \u003ctr\u003e\n",
              "      \u003cth\u003e7\u003c/th\u003e\n",
              "      \u003ctd\u003e0.863117\u003c/td\u003e\n",
              "      \u003ctd\u003e1.991613\u003c/td\u003e\n",
              "      \u003ctd\u003e5.550368\u003c/td\u003e\n",
              "      \u003ctd\u003e0.952045\u003c/td\u003e\n",
              "      \u003ctd\u003e0.103030\u003c/td\u003e\n",
              "    \u003c/tr\u003e\n",
              "    \u003ctr\u003e\n",
              "      \u003cth\u003e8\u003c/th\u003e\n",
              "      \u003ctd\u003e1.025578\u003c/td\u003e\n",
              "      \u003ctd\u003e1.967602\u003c/td\u003e\n",
              "      \u003ctd\u003e4.842186\u003c/td\u003e\n",
              "      \u003ctd\u003e1.119715\u003c/td\u003e\n",
              "      \u003ctd\u003e0.091788\u003c/td\u003e\n",
              "    \u003c/tr\u003e\n",
              "    \u003ctr\u003e\n",
              "      \u003cth\u003e9\u003c/th\u003e\n",
              "      \u003ctd\u003e1.492684\u003c/td\u003e\n",
              "      \u003ctd\u003e1.893059\u003c/td\u003e\n",
              "      \u003ctd\u003e6.463998\u003c/td\u003e\n",
              "      \u003ctd\u003e1.517174\u003c/td\u003e\n",
              "      \u003ctd\u003e0.016406\u003c/td\u003e\n",
              "    \u003c/tr\u003e\n",
              "  \u003c/tbody\u003e\n",
              "\u003c/table\u003e\n",
              "\u003c/div\u003e"
            ],
            "text/plain": [
              "        label_mean  normalized_mae  normalized_rmse  pred_mean  decile_mape\n",
              "decile                                                                     \n",
              "0         0.446768        1.518032         6.234249   0.253326     0.432981\n",
              "1         0.500363        1.696175         5.785942   0.379958     0.240635\n",
              "2         0.629462        1.669090         5.069715   0.468928     0.255034\n",
              "3         0.708779        1.699808         5.270791   0.552951     0.219853\n",
              "4         0.687195        1.835328         5.020494   0.638257     0.071215\n",
              "5         0.760416        1.862291         5.044576   0.729008     0.041303\n",
              "6         0.781443        1.955214         4.946170   0.830943     0.063344\n",
              "7         0.863117        1.991613         5.550368   0.952045     0.103030\n",
              "8         1.025578        1.967602         4.842186   1.119715     0.091788\n",
              "9         1.492684        1.893059         6.463998   1.517174     0.016406"
            ]
          },
          "execution_count": 38,
          "metadata": {
            "tags": []
          },
          "output_type": "execute_result"
        }
      ],
      "source": [
        "df_decile = ltv.decile_stats(y_eval, y_pred)\n",
        "df_decile"
      ]
    },
    {
      "cell_type": "code",
      "execution_count": 0,
      "metadata": {
        "colab": {
          "height": 306
        },
        "colab_type": "code",
        "executionInfo": {
          "elapsed": 165,
          "status": "ok",
          "timestamp": 1574346434331,
          "user": {
            "displayName": "",
            "photoUrl": "",
            "userId": ""
          },
          "user_tz": 300
        },
        "id": "DHdLqUqdL4hf",
        "outputId": "9b917c76-e741-433e-bfe2-50efea763b8c"
      },
      "outputs": [
        {
          "data": {
            "image/png": "[encoded data removed]",
            "text/plain": [
              "\u003cmatplotlib.figure.Figure at 0x3c96181a8150\u003e"
            ]
          },
          "metadata": {
            "image/png": {
              "height": 289,
              "width": 393
            },
            "tags": []
          },
          "output_type": "display_data"
        }
      ],
      "source": [
        "ax = df_decile[['label_mean', 'pred_mean']].plot.bar(rot=0)\n",
        "\n",
        "ax.set_title('Decile Chart')\n",
        "ax.set_xlabel('Prediction bucket')\n",
        "ax.set_ylabel('Average bucket value')\n",
        "ax.legend(['Label', 'Prediction'], loc='upper left');"
      ]
    },
    {
      "cell_type": "markdown",
      "metadata": {
        "colab_type": "text",
        "id": "nK6DQ89xU-d4"
      },
      "source": [
        "### Rank Correlation"
      ]
    },
    {
      "cell_type": "code",
      "execution_count": 0,
      "metadata": {
        "colab": {
          "height": 34
        },
        "colab_type": "code",
        "executionInfo": {
          "elapsed": 98,
          "status": "ok",
          "timestamp": 1574346575024,
          "user": {
            "displayName": "",
            "photoUrl": "",
            "userId": ""
          },
          "user_tz": 300
        },
        "id": "I9qWGyY3WePz",
        "outputId": "32d8a79b-8903-420b-d816-3d89b9d42b15"
      },
      "outputs": [
        {
          "data": {
            "text/plain": [
              "0.022891050334413545"
            ]
          },
          "execution_count": 42,
          "metadata": {
            "tags": []
          },
          "output_type": "execute_result"
        }
      ],
      "source": [
        "def spearmanr(\n",
        "    x1: Sequence[float],\n",
        "    x2: Sequence[float]) -\u003e float:\n",
        "  \"\"\"Calculates spearmanr rank correlation coefficient.\n",
        "\n",
        "  See https://docs.scipy.org/doc/scipy/reference/stats.html.\n",
        "\n",
        "  Args:\n",
        "    x1: 1D array_like.\n",
        "    x2: 1D array_like.\n",
        "\n",
        "  Returns:\n",
        "    correlation: float.\n",
        "  \"\"\"\n",
        "  return stats.spearmanr(x1, x2, nan_policy='raise')[0]\n",
        "\n",
        "\n",
        "spearman_corr = spearmanr(y_eval, y_pred)\n",
        "spearman_corr"
      ]
    },
    {
      "cell_type": "markdown",
      "metadata": {
        "colab_type": "text",
        "id": "-i_AbqhXcurk"
      },
      "source": [
        "### All metrics together"
      ]
    },
    {
      "cell_type": "code",
      "execution_count": 0,
      "metadata": {
        "colab": {},
        "colab_type": "code",
        "id": "Umqg1-0Bc1HS"
      },
      "outputs": [],
      "source": [
        "df_metrics = pd.DataFrame({\n",
        "    'model': MODEL,\n",
        "    'loss_function': LOSS,\n",
        "    'train_loss': history['loss'][-1],\n",
        "    'eval_loss': history['val_loss'][-1],\n",
        "    'label_positive': np.mean(y_eval \u003e 0),\n",
        "    'label_mean': y_eval.mean(),\n",
        "    'pred_mean': y_pred.mean(),\n",
        "    'decile_mape': df_decile['decile_mape'].mean(),\n",
        "    'baseline_gini': gini['normalized'][1],\n",
        "    'gini': gini['normalized'][2],\n",
        "    'spearman_corr': spearman_corr,\n",
        "}, index=[VERSION])"
      ]
    },
    {
      "cell_type": "code",
      "execution_count": 0,
      "metadata": {
        "colab": {},
        "colab_type": "code",
        "id": "C_cM2Mc2SB3W"
      },
      "outputs": [],
      "source": [
        "for unit_cost, total_profit in zip(unit_costs, total_profits):\n",
        "  df_metrics['total_profit_{:02d}'.format(int(unit_cost * 100))] = total_profit"
      ]
    },
    {
      "cell_type": "code",
      "execution_count": 0,
      "metadata": {
        "colab": {
          "height": 610
        },
        "colab_type": "code",
        "executionInfo": {
          "elapsed": 99,
          "status": "ok",
          "timestamp": 1574346578846,
          "user": {
            "displayName": "",
            "photoUrl": "",
            "userId": ""
          },
          "user_tz": 300
        },
        "id": "iyMvsOtbRrXZ",
        "outputId": "e39f2617-7279-4776-ad01-2723ee8c8539"
      },
      "outputs": [
        {
          "data": {
            "text/html": [
              "\u003cdiv\u003e\n",
              "\u003cstyle scoped\u003e\n",
              "    .dataframe tbody tr th:only-of-type {\n",
              "        vertical-align: middle;\n",
              "    }\n",
              "\n",
              "    .dataframe tbody tr th {\n",
              "        vertical-align: top;\n",
              "    }\n",
              "\n",
              "    .dataframe thead th {\n",
              "        text-align: right;\n",
              "    }\n",
              "\u003c/style\u003e\n",
              "\u003ctable border=\"1\" class=\"dataframe\"\u003e\n",
              "  \u003cthead\u003e\n",
              "    \u003ctr style=\"text-align: right;\"\u003e\n",
              "      \u003cth\u003e\u003c/th\u003e\n",
              "      \u003cth\u003e0\u003c/th\u003e\n",
              "    \u003c/tr\u003e\n",
              "  \u003c/thead\u003e\n",
              "  \u003ctbody\u003e\n",
              "    \u003ctr\u003e\n",
              "      \u003cth\u003ebaseline_gini\u003c/th\u003e\n",
              "      \u003ctd\u003e0.129401\u003c/td\u003e\n",
              "    \u003c/tr\u003e\n",
              "    \u003ctr\u003e\n",
              "      \u003cth\u003edecile_mape\u003c/th\u003e\n",
              "      \u003ctd\u003e0.153559\u003c/td\u003e\n",
              "    \u003c/tr\u003e\n",
              "    \u003ctr\u003e\n",
              "      \u003cth\u003eeval_loss\u003c/th\u003e\n",
              "      \u003ctd\u003e0.357348\u003c/td\u003e\n",
              "    \u003c/tr\u003e\n",
              "    \u003ctr\u003e\n",
              "      \u003cth\u003egini\u003c/th\u003e\n",
              "      \u003ctd\u003e0.194649\u003c/td\u003e\n",
              "    \u003c/tr\u003e\n",
              "    \u003ctr\u003e\n",
              "      \u003cth\u003elabel_mean\u003c/th\u003e\n",
              "      \u003ctd\u003e0.789582\u003c/td\u003e\n",
              "    \u003c/tr\u003e\n",
              "    \u003ctr\u003e\n",
              "      \u003cth\u003elabel_positive\u003c/th\u003e\n",
              "      \u003ctd\u003e0.0505671\u003c/td\u003e\n",
              "    \u003c/tr\u003e\n",
              "    \u003ctr\u003e\n",
              "      \u003cth\u003eloss_function\u003c/th\u003e\n",
              "      \u003ctd\u003eziln\u003c/td\u003e\n",
              "    \u003c/tr\u003e\n",
              "    \u003ctr\u003e\n",
              "      \u003cth\u003emodel\u003c/th\u003e\n",
              "      \u003ctd\u003ednn\u003c/td\u003e\n",
              "    \u003c/tr\u003e\n",
              "    \u003ctr\u003e\n",
              "      \u003cth\u003epred_mean\u003c/th\u003e\n",
              "      \u003ctd\u003e0.744231\u003c/td\u003e\n",
              "    \u003c/tr\u003e\n",
              "    \u003ctr\u003e\n",
              "      \u003cth\u003espearman_corr\u003c/th\u003e\n",
              "      \u003ctd\u003e0.0228911\u003c/td\u003e\n",
              "    \u003c/tr\u003e\n",
              "    \u003ctr\u003e\n",
              "      \u003cth\u003etrain_loss\u003c/th\u003e\n",
              "      \u003ctd\u003e0.339151\u003c/td\u003e\n",
              "    \u003c/tr\u003e\n",
              "    \u003ctr\u003e\n",
              "      \u003cth\u003etotal_profit_40\u003c/th\u003e\n",
              "      \u003ctd\u003e36429.3\u003c/td\u003e\n",
              "    \u003c/tr\u003e\n",
              "    \u003ctr\u003e\n",
              "      \u003cth\u003etotal_profit_50\u003c/th\u003e\n",
              "      \u003ctd\u003e27306.6\u003c/td\u003e\n",
              "    \u003c/tr\u003e\n",
              "    \u003ctr\u003e\n",
              "      \u003cth\u003etotal_profit_60\u003c/th\u003e\n",
              "      \u003ctd\u003e19300.1\u003c/td\u003e\n",
              "    \u003c/tr\u003e\n",
              "    \u003ctr\u003e\n",
              "      \u003cth\u003etotal_profit_68\u003c/th\u003e\n",
              "      \u003ctd\u003e14734.9\u003c/td\u003e\n",
              "    \u003c/tr\u003e\n",
              "    \u003ctr\u003e\n",
              "      \u003cth\u003etotal_profit_70\u003c/th\u003e\n",
              "      \u003ctd\u003e13681.2\u003c/td\u003e\n",
              "    \u003c/tr\u003e\n",
              "    \u003ctr\u003e\n",
              "      \u003cth\u003etotal_profit_80\u003c/th\u003e\n",
              "      \u003ctd\u003e9360.87\u003c/td\u003e\n",
              "    \u003c/tr\u003e\n",
              "    \u003ctr\u003e\n",
              "      \u003cth\u003etotal_profit_90\u003c/th\u003e\n",
              "      \u003ctd\u003e6448.3\u003c/td\u003e\n",
              "    \u003c/tr\u003e\n",
              "    \u003ctr\u003e\n",
              "      \u003cth\u003etotal_profit_100\u003c/th\u003e\n",
              "      \u003ctd\u003e4785\u003c/td\u003e\n",
              "    \u003c/tr\u003e\n",
              "  \u003c/tbody\u003e\n",
              "\u003c/table\u003e\n",
              "\u003c/div\u003e"
            ],
            "text/plain": [
              "                          0\n",
              "baseline_gini      0.129401\n",
              "decile_mape        0.153559\n",
              "eval_loss          0.357348\n",
              "gini               0.194649\n",
              "label_mean         0.789582\n",
              "label_positive    0.0505671\n",
              "loss_function          ziln\n",
              "model                   dnn\n",
              "pred_mean          0.744231\n",
              "spearman_corr     0.0228911\n",
              "train_loss         0.339151\n",
              "total_profit_40     36429.3\n",
              "total_profit_50     27306.6\n",
              "total_profit_60     19300.1\n",
              "total_profit_68     14734.9\n",
              "total_profit_70     13681.2\n",
              "total_profit_80     9360.87\n",
              "total_profit_90      6448.3\n",
              "total_profit_100       4785"
            ]
          },
          "execution_count": 45,
          "metadata": {
            "tags": []
          },
          "output_type": "execute_result"
        }
      ],
      "source": [
        "df_metrics.T"
      ]
    },
    {
      "cell_type": "markdown",
      "metadata": {
        "colab_type": "text",
        "id": "8uHtLKk1x0IE"
      },
      "source": [
        "## Save"
      ]
    },
    {
      "cell_type": "code",
      "execution_count": 0,
      "metadata": {
        "colab": {},
        "colab_type": "code",
        "id": "L-fMkqWIm6X6"
      },
      "outputs": [],
      "source": [
        "output_path = OUTPUT_CSV_FOLDER"
      ]
    },
    {
      "cell_type": "code",
      "execution_count": 0,
      "metadata": {
        "colab": {},
        "colab_type": "code",
        "id": "jpJJAbWEm94h"
      },
      "outputs": [],
      "source": [
        "if not os.path.isdir(output_path):\n",
        "  os.makedirs(output_path)"
      ]
    },
    {
      "cell_type": "code",
      "execution_count": 0,
      "metadata": {
        "colab": {},
        "colab_type": "code",
        "id": "y4LcrTLOm_4B"
      },
      "outputs": [],
      "source": [
        "output_file = os.path.join(output_path, '{}_regression_{}_{}.csv'.format(MODEL, LOSS, VERSION))"
      ]
    },
    {
      "cell_type": "code",
      "execution_count": 0,
      "metadata": {
        "colab": {},
        "colab_type": "code",
        "id": "4WOF7a-dnENp"
      },
      "outputs": [],
      "source": [
        "df_metrics.to_csv(output_file, index=False)"
      ]
    }
  ],
  "metadata": {
    "colab": {
      "collapsed_sections": [],
      "last_runtime": {
        "build_target": "",
        "kind": "local"
      },
      "name": "regression.ipynb",
      "provenance": []
    },
    "kernelspec": {
      "display_name": "Python 2",
      "name": "python2"
    }
  },
  "nbformat": 4,
  "nbformat_minor": 0
}
