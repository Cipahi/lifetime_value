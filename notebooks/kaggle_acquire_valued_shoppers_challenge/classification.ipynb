{
  "cells": [
    {
      "cell_type": "code",
      "execution_count": 0,
      "metadata": {
        "colab": {},
        "colab_type": "code",
        "id": "znEK1MNRXqWY"
      },
      "outputs": [],
      "source": [
        "#@title Copyright 2019 The Lifetime Value Authors.\n",
        "# Licensed under the Apache License, Version 2.0 (the \"License\");\n",
        "# you may not use this file except in compliance with the License.\n",
        "# You may obtain a copy of the License at\n",
        "#\n",
        "#     https://www.apache.org/licenses/LICENSE-2.0\n",
        "#\n",
        "# Unless required by applicable law or agreed to in writing, software\n",
        "# distributed under the License is distributed on an \"AS IS\" BASIS,\n",
        "# WITHOUT WARRANTIES OR CONDITIONS OF ANY KIND, either express or implied.\n",
        "# See the License for the specific language governing permissions and\n",
        "# limitations under the License.\n",
        "# ============================================================================"
      ]
    },
    {
      "cell_type": "markdown",
      "metadata": {
        "colab_type": "text",
        "id": "3oNqWmn530N-"
      },
      "source": [
        "# Churn Prediction for Kaggle Acquire Valued Customer Challenge"
      ]
    },
    {
      "cell_type": "markdown",
      "metadata": {
        "colab_type": "text",
        "id": "XKydJ9qF4KVm"
      },
      "source": [
        "\u003ctable align=\"left\"\u003e\n",
        "  \u003ctd\u003e\n",
        "    \u003ca target=\"_blank\" href=\"https://colab.research.google.com/github/google/lifetime-value/blob/master/notebooks/kaggle_acquire_valued_shoppers_challenge/classification.ipynb\"\u003e\u003cimg src=\"https://www.tensorflow.org/images/colab_logo_32px.png\" /\u003eRun in Google Colab\u003c/a\u003e\n",
        "  \u003c/td\u003e\n",
        "  \u003ctd\u003e\n",
        "    \u003ca target=\"_blank\" href=\"https://github.com/google/lifetime-value/blob/master/notebooks/kaggle_acquire_valued_shoppers_challenge/classification.ipynb\"\u003e\u003cimg src=\"https://www.tensorflow.org/images/GitHub-Mark-32px.png\" /\u003eView source on GitHub\u003c/a\u003e\n",
        "  \u003c/td\u003e\n",
        "\u003c/table\u003e"
      ]
    },
    {
      "cell_type": "code",
      "execution_count": 0,
      "metadata": {
        "colab": {},
        "colab_type": "code",
        "id": "KObdQwyXH2mC"
      },
      "outputs": [],
      "source": [
        "# from __future__ import google_type_annotations\n",
        "\n",
        "import os\n",
        "\n",
        "import numpy as np\n",
        "import pandas as pd\n",
        "import tqdm\n",
        "from sklearn import metrics\n",
        "from sklearn import model_selection\n",
        "from sklearn import preprocessing\n",
        "import tensorflow as tf\n",
        "from tensorflow import keras\n",
        "from tensorflow.keras import backend as K\n",
        "import tensorflow_probability as tfp\n",
        "from typing import Sequence\n",
        "\n",
        "# install and import ltv\n",
        "!pip install -q git+https://github.com/google/lifetime-value\n",
        "import lifetime_value as ltv"
      ]
    },
    {
      "cell_type": "code",
      "execution_count": 0,
      "metadata": {
        "colab": {},
        "colab_type": "code",
        "id": "K41RmAfNXtu_"
      },
      "outputs": [],
      "source": [
        "tfd = tfp.distributions\n",
        "tf.enable_eager_execution()\n",
        "pd.options.mode.chained_assignment = None  # default='warn'"
      ]
    },
    {
      "cell_type": "markdown",
      "metadata": {
        "colab_type": "text",
        "id": "RzTaK6fFXMWT"
      },
      "source": [
        "## Global variables"
      ]
    },
    {
      "cell_type": "code",
      "execution_count": 0,
      "metadata": {
        "colab": {},
        "colab_type": "code",
        "id": "VQVhF3fhNEr2"
      },
      "outputs": [],
      "source": [
        "COMPANY = '104900040'  # @param { isTemplate: true, type: 'string'}\n",
        "LOSS = 'ziln'  # @param { isTemplate: true, type: 'string'} ['bce', 'ziln']\n",
        "MODEL = 'linear'  # @param { isTemplate: true, type: 'string'} ['linear', 'dnn']\n",
        "LEARNING_RATE = 0.0002  # @param { isTemplate: true}\n",
        "EPOCHS = 400  # @param {type: 'integer'}\n",
        "OUTPUT_CSV_FOLDER = '/tmp/lifetime-value/result'  # @param { isTemplate: true, type: 'string'}"
      ]
    },
    {
      "cell_type": "code",
      "execution_count": 0,
      "metadata": {
        "colab": {},
        "colab_type": "code",
        "id": "g7dg8TwYbxnl"
      },
      "outputs": [],
      "source": [
        "CATEGORICAL_FEATURES = ['chain', 'dept', 'category', 'brand', 'productmeasure']\n",
        "NUMERIC_FEATURES = ['log_calibration_value']\n",
        "\n",
        "ALL_FEATURES = CATEGORICAL_FEATURES + NUMERIC_FEATURES"
      ]
    },
    {
      "cell_type": "markdown",
      "metadata": {
        "colab_type": "text",
        "id": "I_nbvZjMuj_z"
      },
      "source": [
        "## Data"
      ]
    },
    {
      "cell_type": "markdown",
      "metadata": {
        "colab_type": "text",
        "id": "SFi0JMPu138h"
      },
      "source": [
        "### Download data"
      ]
    },
    {
      "cell_type": "markdown",
      "metadata": {
        "colab_type": "text",
        "id": "krXMbrkVNtdN"
      },
      "source": [
        "Setup kaggle API correctly following https://www.kaggle.com/docs/api"
      ]
    },
    {
      "cell_type": "code",
      "execution_count": 0,
      "metadata": {
        "colab": {
          "height": 235
        },
        "colab_type": "code",
        "executionInfo": {
          "elapsed": 228304,
          "status": "ok",
          "timestamp": 1574346925485,
          "user": {
            "displayName": "",
            "photoUrl": "",
            "userId": ""
          },
          "user_tz": 300
        },
        "id": "0gf4ipd-14x0",
        "outputId": "35591ccc-0eaa-461b-a7d3-e149941829e4"
      },
      "outputs": [
        {
          "data": {
            "application/javascript": [
              "window[\"9fe708b3-0c6b-11ea-a62f-f4939fead5ca\"] = colab.output.setWordWrap(true);\n",
              "//# sourceURL=js_0c73f062ac"
            ],
            "text/plain": [
              "\u003cIPython.core.display.Javascript at 0xf42adfa3550\u003e"
            ]
          },
          "metadata": {
            "tags": []
          },
          "output_type": "display_data"
        },
        {
          "data": {
            "application/javascript": [
              "window[\"9feb7275-0c6b-11ea-9e15-f4939fead5ca\"] = jQuery(\"\u003cdiv class=id_53117914 style=\\\"margin-right:10px; display:flex;align-items:center;margin-top:10px;\\\"\u003e\u003cspan style=\\\"margin-right: 3px;\\\"\u003e\u003c/span\u003e\u003c/div\u003e\");\n",
              "//# sourceURL=js_7f4f0b85a6"
            ],
            "text/plain": [
              "\u003cIPython.core.display.Javascript at 0xf42b30a9f90\u003e"
            ]
          },
          "metadata": {
            "tags": []
          },
          "output_type": "display_data"
        },
        {
          "data": {
            "application/javascript": [
              "window[\"9febde0a-0c6b-11ea-bf0a-f4939fead5ca\"] = jQuery(\"#output-footer\");\n",
              "//# sourceURL=js_4379d1cf79"
            ],
            "text/plain": [
              "\u003cIPython.core.display.Javascript at 0xf42adfaeb10\u003e"
            ]
          },
          "metadata": {
            "tags": []
          },
          "output_type": "display_data"
        },
        {
          "data": {
            "application/javascript": [
              "window[\"9fec2823-0c6b-11ea-b7c1-f4939fead5ca\"] = window[\"9feb7275-0c6b-11ea-9e15-f4939fead5ca\"].appendTo(window[\"9febde0a-0c6b-11ea-bf0a-f4939fead5ca\"]);\n",
              "//# sourceURL=js_f1be184edb"
            ],
            "text/plain": [
              "\u003cIPython.core.display.Javascript at 0xf42adfaefd0\u003e"
            ]
          },
          "metadata": {
            "tags": []
          },
          "output_type": "display_data"
        },
        {
          "data": {
            "application/javascript": [
              "window[\"9fec638f-0c6b-11ea-bb35-f4939fead5ca\"] = jQuery(\".id_53117914 span\");\n",
              "//# sourceURL=js_c92c880cbc"
            ],
            "text/plain": [
              "\u003cIPython.core.display.Javascript at 0x116b7f35b390\u003e"
            ]
          },
          "metadata": {
            "tags": []
          },
          "output_type": "display_data"
        },
        {
          "data": {
            "application/javascript": [
              "window[\"9feca375-0c6b-11ea-bc54-f4939fead5ca\"] = window[\"9fec638f-0c6b-11ea-bb35-f4939fead5ca\"].text(\"\u003e\");\n",
              "//# sourceURL=js_27f38b74f7"
            ],
            "text/plain": [
              "\u003cIPython.core.display.Javascript at 0xf42adfaee10\u003e"
            ]
          },
          "metadata": {
            "tags": []
          },
          "output_type": "display_data"
        },
        {
          "name": "stdout",
          "output_type": "stream",
          "text": [
            " 99%|█████████▉| 2.85G/2.86G [01:03\u003c00:00, 89.1MB/s]Warning: Your Kaggle API key is readable by other users on this system! To fix this, you can run 'chmod 600 /usr/local/google/home/tianqiliu/.kaggle/kaggle.json'\n",
            "100%|██████████| 2.86G/2.86G [01:04\u003c00:00, 47.9MB/s]\n",
            "Downloading acquire-valued-shoppers-challenge.zip to /tmp/lifetime-value/acquire-valued-shoppers-challenge\n",
            "\n",
            "Archive:  acquire-valued-shoppers-challenge.zip\n",
            "  inflating: trainHistory.csv.gz     \n",
            "  inflating: sampleSubmission.csv.gz  \n",
            "  inflating: testHistory.csv.gz      \n",
            "  inflating: offers.csv.gz           \n",
            "  inflating: transactions.csv.gz     \n"
          ]
        },
        {
          "data": {
            "application/javascript": [
              "window[\"27f3b82b-0c6c-11ea-93b8-f4939fead5ca\"] = jQuery(\".id_53117914\");\n",
              "//# sourceURL=js_6589243a26"
            ],
            "text/plain": [
              "\u003cIPython.core.display.Javascript at 0xf42b3084090\u003e"
            ]
          },
          "metadata": {
            "tags": []
          },
          "output_type": "display_data"
        },
        {
          "data": {
            "application/javascript": [
              "window[\"27f40438-0c6c-11ea-a9b7-f4939fead5ca\"] = window[\"27f3b82b-0c6c-11ea-93b8-f4939fead5ca\"].remove();\n",
              "//# sourceURL=js_7ba219f277"
            ],
            "text/plain": [
              "\u003cIPython.core.display.Javascript at 0xf42b3084350\u003e"
            ]
          },
          "metadata": {
            "tags": []
          },
          "output_type": "display_data"
        }
      ],
      "source": [
        "%%shell\n",
        "if [ -e /tmp/lifetime-value/acquire-valued-shoppers-challenge/transactions.csv ]\n",
        "then\n",
        "  echo \"File already exists, no need to download.\"\n",
        "else\n",
        "  rm -rf /tmp/lifetime-value/acquire-valued-shoppers-challenge\n",
        "  mkdir /tmp/lifetime-value/acquire-valued-shoppers-challenge\n",
        "  cd /tmp/lifetime-value/acquire-valued-shoppers-challenge\n",
        "  kaggle competitions download -c acquire-valued-shoppers-challenge\n",
        "  unzip acquire-valued-shoppers-challenge.zip\n",
        "  gunzip transactions.csv.gz\n",
        "fi"
      ]
    },
    {
      "cell_type": "markdown",
      "metadata": {
        "colab_type": "text",
        "id": "V4zoAS25uj_7"
      },
      "source": [
        "### Load transaction csv"
      ]
    },
    {
      "cell_type": "code",
      "execution_count": 0,
      "metadata": {
        "colab": {},
        "colab_type": "code",
        "id": "5tIMvE3dW1Ky"
      },
      "outputs": [],
      "source": [
        "def load_transaction_data(company):\n",
        "  all_data_filename = '/tmp/lifetime-value/acquire-valued-shoppers-challenge/transactions.csv'\n",
        "  one_company_data_filename = (\n",
        "      '/tmp/lifetime-value/acquire-valued-shoppers-challenge/transactions_company_{}.csv'\n",
        "      .format(COMPANY))\n",
        "  if os.path.isfile(one_company_data_filename):\n",
        "    df = pd.read_csv(one_company_data_filename)\n",
        "  else:\n",
        "    data_list = []\n",
        "    chunksize = 10**6\n",
        "    # 350 iterations\n",
        "    for chunk in tqdm.tqdm(pd.read_csv(all_data_filename, chunksize=chunksize)):\n",
        "      data_list.append(chunk.query(\"company=='{}'\".format(company)))\n",
        "    df = pd.concat(data_list, axis=0)\n",
        "    df.to_csv(one_company_data_filename, index=None)\n",
        "  return df"
      ]
    },
    {
      "cell_type": "markdown",
      "metadata": {
        "colab_type": "text",
        "id": "9ra4bfwCVwKn"
      },
      "source": [
        "### Preprocess data"
      ]
    },
    {
      "cell_type": "code",
      "execution_count": 0,
      "metadata": {
        "colab": {},
        "colab_type": "code",
        "id": "PlJl5g9Delmi"
      },
      "outputs": [],
      "source": [
        "def preprocess(df):\n",
        "  df = df.query('purchaseamount\u003e0')\n",
        "  df['date'] = pd.to_datetime(df['date'], format='%Y-%m-%d')\n",
        "  df['start_date'] = df.groupby('id')['date'].transform('min')\n",
        "\n",
        "  # Compute calibration values\n",
        "  calibration_value = (\n",
        "      df.query('date==start_date').groupby('id')\n",
        "      ['purchaseamount'].sum().reset_index())\n",
        "  calibration_value.columns = ['id', 'calibration_value']\n",
        "\n",
        "  # Compute holdout values\n",
        "  one_year_holdout_window_mask = (\n",
        "      (df['date'] \u003e df['start_date']) \u0026\n",
        "      (df['date'] \u003c= df['start_date'] + np.timedelta64(365, 'D')))\n",
        "  holdout_value = (\n",
        "      df[one_year_holdout_window_mask].groupby('id')\n",
        "      ['purchaseamount'].sum().reset_index())\n",
        "  holdout_value.columns = ['id', 'holdout_value']\n",
        "\n",
        "  # Compute calibration attributes\n",
        "  calibration_attributes = (\n",
        "      df.query('date==start_date').sort_values(\n",
        "          'purchaseamount', ascending=False).groupby('id')[[\n",
        "              'chain', 'dept', 'category', 'brand', 'productmeasure'\n",
        "          ]].first().reset_index())\n",
        "\n",
        "  # Merge dataframes\n",
        "  customer_level_data = (\n",
        "      calibration_value.merge(calibration_attributes, how='left',\n",
        "                              on='id').merge(\n",
        "                                  holdout_value, how='left', on='id'))\n",
        "  customer_level_data['holdout_value'] = (\n",
        "      customer_level_data['holdout_value'].fillna(0.))\n",
        "  customer_level_data[CATEGORICAL_FEATURES] = (\n",
        "      customer_level_data[CATEGORICAL_FEATURES].fillna('UNKNOWN'))\n",
        "\n",
        "  # Specify data types\n",
        "  customer_level_data['log_calibration_value'] = (\n",
        "      np.log(customer_level_data['calibration_value']).astype('float32'))\n",
        "  customer_level_data['chain'] = (\n",
        "      customer_level_data['chain'].astype('category'))\n",
        "  customer_level_data['dept'] = (customer_level_data['dept'].astype('category'))\n",
        "  customer_level_data['brand'] = (\n",
        "      customer_level_data['brand'].astype('category'))\n",
        "  customer_level_data['category'] = (\n",
        "      customer_level_data['category'].astype('category'))\n",
        "  customer_level_data['label'] = (\n",
        "      customer_level_data['holdout_value'].astype('float32'))\n",
        "  return customer_level_data"
      ]
    },
    {
      "cell_type": "markdown",
      "metadata": {
        "colab_type": "text",
        "id": "fP3q6uuMoXhA"
      },
      "source": [
        "### Load customer-level csv"
      ]
    },
    {
      "cell_type": "code",
      "execution_count": 0,
      "metadata": {
        "colab": {},
        "colab_type": "code",
        "id": "X8B4zV1xoeMX"
      },
      "outputs": [],
      "source": [
        "def load_customer_level_csv(company):\n",
        "  customer_level_data_file = (\n",
        "      '/tmp/lifetime-value/acquire-valued-shoppers-challenge/customer_level_data_company_{}.csv'\n",
        "      .format(company))\n",
        "  if os.path.isfile(customer_level_data_file):\n",
        "    customer_level_data = pd.read_csv(customer_level_data_file)\n",
        "  else:\n",
        "    customer_level_data = preprocess(load_transaction_data(company))\n",
        "  for cat_col in CATEGORICAL_FEATURES:\n",
        "    customer_level_data[cat_col] = (\n",
        "        customer_level_data[cat_col].astype('category'))\n",
        "  for num_col in [\n",
        "      'log_calibration_value', 'calibration_value', 'holdout_value'\n",
        "  ]:\n",
        "    customer_level_data[num_col] = (\n",
        "        customer_level_data[num_col].astype('float32'))\n",
        "\n",
        "  return customer_level_data"
      ]
    },
    {
      "cell_type": "code",
      "execution_count": 0,
      "metadata": {
        "colab": {},
        "colab_type": "code",
        "id": "DWwMxpIEukAE"
      },
      "outputs": [],
      "source": [
        "customer_level_data = load_customer_level_csv(COMPANY)"
      ]
    },
    {
      "cell_type": "markdown",
      "metadata": {
        "colab_type": "text",
        "id": "09tqgvANtsil"
      },
      "source": [
        "We observe a mixture of zero and lognormal distribution of holdout value."
      ]
    },
    {
      "cell_type": "code",
      "execution_count": 0,
      "metadata": {
        "colab": {
          "height": 296
        },
        "colab_type": "code",
        "executionInfo": {
          "elapsed": 1530,
          "status": "ok",
          "timestamp": 1574347496291,
          "user": {
            "displayName": "",
            "photoUrl": "",
            "userId": ""
          },
          "user_tz": 300
        },
        "id": "BtF0z3VbmGev",
        "outputId": "62fb9d96-cafa-4897-aa7f-c514a168b2b5"
      },
      "outputs": [
        {
          "data": {
            "text/plain": [
              "\u003cmatplotlib.axes._subplots.AxesSubplot at 0xf44fc75b050\u003e"
            ]
          },
          "execution_count": 12,
          "metadata": {
            "tags": []
          },
          "output_type": "execute_result"
        },
        {
          "data": {
            "image/png": "[encoded data removed]",
            "text/plain": [
              "\u003cmatplotlib.figure.Figure at 0xf44fc737850\u003e"
            ]
          },
          "metadata": {
            "tags": []
          },
          "output_type": "display_data"
        }
      ],
      "source": [
        "customer_level_data.label.apply(np.log1p).hist(bins=50)"
      ]
    },
    {
      "cell_type": "code",
      "execution_count": 0,
      "metadata": {
        "colab": {
          "height": 343
        },
        "colab_type": "code",
        "executionInfo": {
          "elapsed": 101,
          "status": "ok",
          "timestamp": 1574347496443,
          "user": {
            "displayName": "",
            "photoUrl": "",
            "userId": ""
          },
          "user_tz": 300
        },
        "id": "wLpgjEuofbdy",
        "outputId": "dc890e10-3a47-4930-cca5-738501ee6070"
      },
      "outputs": [
        {
          "data": {
            "text/html": [
              "\u003cdiv\u003e\n",
              "\u003cstyle scoped\u003e\n",
              "    .dataframe tbody tr th:only-of-type {\n",
              "        vertical-align: middle;\n",
              "    }\n",
              "\n",
              "    .dataframe tbody tr th {\n",
              "        vertical-align: top;\n",
              "    }\n",
              "\n",
              "    .dataframe thead th {\n",
              "        text-align: right;\n",
              "    }\n",
              "\u003c/style\u003e\n",
              "\u003ctable border=\"1\" class=\"dataframe\"\u003e\n",
              "  \u003cthead\u003e\n",
              "    \u003ctr style=\"text-align: right;\"\u003e\n",
              "      \u003cth\u003e\u003c/th\u003e\n",
              "      \u003cth\u003e0\u003c/th\u003e\n",
              "      \u003cth\u003e1\u003c/th\u003e\n",
              "      \u003cth\u003e2\u003c/th\u003e\n",
              "      \u003cth\u003e3\u003c/th\u003e\n",
              "      \u003cth\u003e4\u003c/th\u003e\n",
              "    \u003c/tr\u003e\n",
              "  \u003c/thead\u003e\n",
              "  \u003ctbody\u003e\n",
              "    \u003ctr\u003e\n",
              "      \u003cth\u003eid\u003c/th\u003e\n",
              "      \u003ctd\u003e86246\u003c/td\u003e\n",
              "      \u003ctd\u003e86252\u003c/td\u003e\n",
              "      \u003ctd\u003e12262064\u003c/td\u003e\n",
              "      \u003ctd\u003e12277270\u003c/td\u003e\n",
              "      \u003ctd\u003e12332190\u003c/td\u003e\n",
              "    \u003c/tr\u003e\n",
              "    \u003ctr\u003e\n",
              "      \u003cth\u003ecalibration_value\u003c/th\u003e\n",
              "      \u003ctd\u003e11.58\u003c/td\u003e\n",
              "      \u003ctd\u003e0.99\u003c/td\u003e\n",
              "      \u003ctd\u003e1.72\u003c/td\u003e\n",
              "      \u003ctd\u003e4.49\u003c/td\u003e\n",
              "      \u003ctd\u003e1.49\u003c/td\u003e\n",
              "    \u003c/tr\u003e\n",
              "    \u003ctr\u003e\n",
              "      \u003cth\u003echain\u003c/th\u003e\n",
              "      \u003ctd\u003e205\u003c/td\u003e\n",
              "      \u003ctd\u003e205\u003c/td\u003e\n",
              "      \u003ctd\u003e95\u003c/td\u003e\n",
              "      \u003ctd\u003e95\u003c/td\u003e\n",
              "      \u003ctd\u003e95\u003c/td\u003e\n",
              "    \u003c/tr\u003e\n",
              "    \u003ctr\u003e\n",
              "      \u003cth\u003edept\u003c/th\u003e\n",
              "      \u003ctd\u003e36\u003c/td\u003e\n",
              "      \u003ctd\u003e21\u003c/td\u003e\n",
              "      \u003ctd\u003e21\u003c/td\u003e\n",
              "      \u003ctd\u003e36\u003c/td\u003e\n",
              "      \u003ctd\u003e36\u003c/td\u003e\n",
              "    \u003c/tr\u003e\n",
              "    \u003ctr\u003e\n",
              "      \u003cth\u003ecategory\u003c/th\u003e\n",
              "      \u003ctd\u003e3630\u003c/td\u003e\n",
              "      \u003ctd\u003e2105\u003c/td\u003e\n",
              "      \u003ctd\u003e2105\u003c/td\u003e\n",
              "      \u003ctd\u003e3601\u003c/td\u003e\n",
              "      \u003ctd\u003e3611\u003c/td\u003e\n",
              "    \u003c/tr\u003e\n",
              "    \u003ctr\u003e\n",
              "      \u003cth\u003ebrand\u003c/th\u003e\n",
              "      \u003ctd\u003e23359\u003c/td\u003e\n",
              "      \u003ctd\u003e14357\u003c/td\u003e\n",
              "      \u003ctd\u003e14357\u003c/td\u003e\n",
              "      \u003ctd\u003e3809\u003c/td\u003e\n",
              "      \u003ctd\u003e4599\u003c/td\u003e\n",
              "    \u003c/tr\u003e\n",
              "    \u003ctr\u003e\n",
              "      \u003cth\u003eproductmeasure\u003c/th\u003e\n",
              "      \u003ctd\u003eOZ\u003c/td\u003e\n",
              "      \u003ctd\u003eOZ\u003c/td\u003e\n",
              "      \u003ctd\u003eOZ\u003c/td\u003e\n",
              "      \u003ctd\u003eOZ\u003c/td\u003e\n",
              "      \u003ctd\u003eOZ\u003c/td\u003e\n",
              "    \u003c/tr\u003e\n",
              "    \u003ctr\u003e\n",
              "      \u003cth\u003eholdout_value\u003c/th\u003e\n",
              "      \u003ctd\u003e358.26\u003c/td\u003e\n",
              "      \u003ctd\u003e336.65\u003c/td\u003e\n",
              "      \u003ctd\u003e32.31\u003c/td\u003e\n",
              "      \u003ctd\u003e186.75\u003c/td\u003e\n",
              "      \u003ctd\u003e53.61\u003c/td\u003e\n",
              "    \u003c/tr\u003e\n",
              "    \u003ctr\u003e\n",
              "      \u003cth\u003elog_calibration_value\u003c/th\u003e\n",
              "      \u003ctd\u003e2.44928\u003c/td\u003e\n",
              "      \u003ctd\u003e-0.0100503\u003c/td\u003e\n",
              "      \u003ctd\u003e0.542324\u003c/td\u003e\n",
              "      \u003ctd\u003e1.50185\u003c/td\u003e\n",
              "      \u003ctd\u003e0.398776\u003c/td\u003e\n",
              "    \u003c/tr\u003e\n",
              "    \u003ctr\u003e\n",
              "      \u003cth\u003elabel\u003c/th\u003e\n",
              "      \u003ctd\u003e358.26\u003c/td\u003e\n",
              "      \u003ctd\u003e336.65\u003c/td\u003e\n",
              "      \u003ctd\u003e32.31\u003c/td\u003e\n",
              "      \u003ctd\u003e186.75\u003c/td\u003e\n",
              "      \u003ctd\u003e53.61\u003c/td\u003e\n",
              "    \u003c/tr\u003e\n",
              "  \u003c/tbody\u003e\n",
              "\u003c/table\u003e\n",
              "\u003c/div\u003e"
            ],
            "text/plain": [
              "                             0          1         2         3         4\n",
              "id                       86246      86252  12262064  12277270  12332190\n",
              "calibration_value        11.58       0.99      1.72      4.49      1.49\n",
              "chain                      205        205        95        95        95\n",
              "dept                        36         21        21        36        36\n",
              "category                  3630       2105      2105      3601      3611\n",
              "brand                    23359      14357     14357      3809      4599\n",
              "productmeasure              OZ         OZ        OZ        OZ        OZ\n",
              "holdout_value           358.26     336.65     32.31    186.75     53.61\n",
              "log_calibration_value  2.44928 -0.0100503  0.542324   1.50185  0.398776\n",
              "label                   358.26     336.65     32.31    186.75     53.61"
            ]
          },
          "execution_count": 13,
          "metadata": {
            "tags": []
          },
          "output_type": "execute_result"
        }
      ],
      "source": [
        "customer_level_data.head().T"
      ]
    },
    {
      "cell_type": "markdown",
      "metadata": {
        "colab_type": "text",
        "id": "slIDJAaTcQeK"
      },
      "source": [
        "## Data"
      ]
    },
    {
      "cell_type": "markdown",
      "metadata": {
        "colab_type": "text",
        "id": "i4kN0uk4kZ68"
      },
      "source": [
        "### Make train/eval"
      ]
    },
    {
      "cell_type": "code",
      "execution_count": 0,
      "metadata": {
        "colab": {},
        "colab_type": "code",
        "id": "JjP5v6NiQfCX"
      },
      "outputs": [],
      "source": [
        "def linear_split(df):\n",
        "  # get_dummies preserves numeric features.\n",
        "  x = pd.get_dummies(df[ALL_FEATURES], drop_first=True).astype('float32').values\n",
        "  y = df['label'].values\n",
        "\n",
        "  x_train, x_eval, y_train, y_eval = model_selection.train_test_split(\n",
        "      x, y, test_size=0.2, random_state=123)\n",
        "\n",
        "  return x_train, x_eval, y_train, y_eval"
      ]
    },
    {
      "cell_type": "code",
      "execution_count": 0,
      "metadata": {
        "colab": {},
        "colab_type": "code",
        "id": "KtWXwORJjaP4"
      },
      "outputs": [],
      "source": [
        "def dnn_split(df):\n",
        "  for key in CATEGORICAL_FEATURES:\n",
        "    encoder = preprocessing.LabelEncoder()\n",
        "    df[key] = encoder.fit_transform(df[key])\n",
        "\n",
        "  df_train, df_eval = model_selection.train_test_split(\n",
        "      df, test_size=0.2, random_state=123)\n",
        "\n",
        "  def feature_dict(df):\n",
        "    features = {k: v.values for k, v in dict(df[CATEGORICAL_FEATURES]).items()}\n",
        "    features['numeric'] = df[NUMERIC_FEATURES].values\n",
        "    return features\n",
        "\n",
        "  x_train, y_train = feature_dict(df_train), df_train['label'].values\n",
        "  x_eval, y_eval = feature_dict(df_eval), df_eval['label'].values\n",
        "\n",
        "  return x_train, x_eval, y_train, y_eval"
      ]
    },
    {
      "cell_type": "markdown",
      "metadata": {
        "colab_type": "text",
        "id": "lqbShWBzR4NE"
      },
      "source": [
        "## Model"
      ]
    },
    {
      "cell_type": "code",
      "execution_count": 0,
      "metadata": {
        "colab": {},
        "colab_type": "code",
        "id": "Yh4Y4a89ooP3"
      },
      "outputs": [],
      "source": [
        "def linear_model(output_units):\n",
        "  return tf.keras.experimental.LinearModel(output_units)"
      ]
    },
    {
      "cell_type": "code",
      "execution_count": 0,
      "metadata": {
        "colab": {},
        "colab_type": "code",
        "id": "W8yo3HLtrAE_"
      },
      "outputs": [],
      "source": [
        "def embedding_dim(x):\n",
        "  return int(x**.25) + 1\n",
        "\n",
        "\n",
        "def embedding_layer(vocab_size):\n",
        "  return tf.keras.Sequential([\n",
        "      tf.keras.layers.Embedding(\n",
        "          input_dim=vocab_size,\n",
        "          output_dim=embedding_dim(vocab_size),\n",
        "          input_length=1),\n",
        "      tf.keras.layers.Flatten(),\n",
        "  ])\n",
        "\n",
        "\n",
        "def dnn_model(output_units, df):\n",
        "  numeric_input = tf.keras.layers.Input(\n",
        "      shape=(len(NUMERIC_FEATURES),), name='numeric')\n",
        "\n",
        "  embedding_inputs = [\n",
        "      tf.keras.layers.Input(shape=(1,), name=key, dtype=np.int64)\n",
        "      for key in CATEGORICAL_FEATURES\n",
        "  ]\n",
        "\n",
        "  embedding_outputs = [\n",
        "      embedding_layer(vocab_size=df[key].nunique())(input)\n",
        "      for key, input in zip(CATEGORICAL_FEATURES, embedding_inputs)\n",
        "  ]\n",
        "\n",
        "  deep_input = tf.keras.layers.concatenate([numeric_input] + embedding_outputs)\n",
        "  deep_model = tf.keras.Sequential([\n",
        "      tf.keras.layers.Dense(64, activation='relu'),\n",
        "      tf.keras.layers.Dense(32, activation='relu'),\n",
        "      tf.keras.layers.Dense(output_units),\n",
        "  ])\n",
        "  return tf.keras.Model(\n",
        "      inputs=[numeric_input] + embedding_inputs, outputs=deep_model(deep_input))"
      ]
    },
    {
      "cell_type": "markdown",
      "metadata": {
        "colab_type": "text",
        "id": "JxZUNrqXWq2a"
      },
      "source": [
        "### Loss"
      ]
    },
    {
      "cell_type": "code",
      "execution_count": 0,
      "metadata": {
        "colab": {},
        "colab_type": "code",
        "id": "vY07tCJGWtrm"
      },
      "outputs": [],
      "source": [
        "def zero_inflated_lognormal_loss(labels: tf.Tensor,\n",
        "                                 logits: tf.Tensor) -\u003e tf.Tensor:\n",
        "  \"\"\"Computes the zero inflated lognormal loss.\n",
        "\n",
        "  Usage with tf.keras API:\n",
        "\n",
        "  ```python\n",
        "  model = tf.keras.Model(inputs, outputs)\n",
        "  model.compile('sgd', loss=zero_inflated_lognormal)\n",
        "  ```\n",
        "\n",
        "  Arguments:\n",
        "    labels: True targets, tensor of shape [batch_size, 1].\n",
        "    logits: Logits of output layer, tensor of shape [batch_size, 3].\n",
        "\n",
        "  Returns:\n",
        "    Zero inflated lognormal loss value.\n",
        "  \"\"\"\n",
        "  labels = tf.convert_to_tensor(labels, dtype=tf.float32)\n",
        "  positive = tf.cast(labels \u003e 0, tf.float32)\n",
        "\n",
        "  logits = tf.convert_to_tensor(logits, dtype=tf.float32)\n",
        "  logits.shape.assert_is_compatible_with(\n",
        "      tf.TensorShape(labels.shape[:-1].as_list() + [3]))\n",
        "\n",
        "  positive_logits = logits[..., :1]\n",
        "  classification_loss = tf.keras.losses.binary_crossentropy(\n",
        "      y_true=positive, y_pred=positive_logits, from_logits=True)\n",
        "\n",
        "  loc = logits[..., 1:2]\n",
        "  scale = K.softplus(logits[..., 2:])\n",
        "  safe_labels = positive * labels + (1 - positive) * K.ones_like(labels)\n",
        "  regression_loss = -K.mean(\n",
        "      positive * tfd.LogNormal(loc=loc, scale=scale).log_prob(safe_labels),\n",
        "      axis=-1)\n",
        "\n",
        "  return classification_loss + regression_loss"
      ]
    },
    {
      "cell_type": "markdown",
      "metadata": {
        "colab_type": "text",
        "id": "U8l-KzZ12fbK"
      },
      "source": [
        "### Train"
      ]
    },
    {
      "cell_type": "code",
      "execution_count": 0,
      "metadata": {
        "colab": {},
        "colab_type": "code",
        "id": "45BHY6q7rQmI"
      },
      "outputs": [],
      "source": [
        "if LOSS == 'bce':\n",
        "  loss = keras.losses.BinaryCrossentropy(from_logits=True)\n",
        "  output_units = 1\n",
        "\n",
        "if LOSS == 'ziln':\n",
        "  loss = ltv.zero_inflated_lognormal_loss\n",
        "  output_units = 3"
      ]
    },
    {
      "cell_type": "code",
      "execution_count": 0,
      "metadata": {
        "colab": {},
        "colab_type": "code",
        "id": "7Jeou8bGrhll"
      },
      "outputs": [],
      "source": [
        "if MODEL == 'linear':\n",
        "  x_train, x_eval, y_train, y_eval = linear_split(customer_level_data)\n",
        "  model = linear_model(output_units)\n",
        "\n",
        "if MODEL == 'dnn':\n",
        "  x_train, x_eval, y_train, y_eval = dnn_split(customer_level_data)\n",
        "  model = dnn_model(output_units, customer_level_data)"
      ]
    },
    {
      "cell_type": "code",
      "execution_count": 0,
      "metadata": {
        "colab": {},
        "colab_type": "code",
        "id": "uF2IdTpAwiZV"
      },
      "outputs": [],
      "source": [
        "if LOSS == 'bce':\n",
        "  y_train = (y_train \u003e 0).astype('float32')\n",
        "  y_eval = (y_eval \u003e 0).astype('float32')"
      ]
    },
    {
      "cell_type": "code",
      "execution_count": 0,
      "metadata": {
        "colab": {},
        "colab_type": "code",
        "id": "_GQ-RlIAfT62"
      },
      "outputs": [],
      "source": [
        "model.compile(loss=loss, optimizer=keras.optimizers.Adam(lr=LEARNING_RATE))"
      ]
    },
    {
      "cell_type": "code",
      "execution_count": 0,
      "metadata": {
        "colab": {},
        "colab_type": "code",
        "id": "chEIOzq6rlJx"
      },
      "outputs": [],
      "source": [
        "callbacks = [\n",
        "    tf.keras.callbacks.ReduceLROnPlateau(monitor='val_loss', min_lr=1e-6),\n",
        "    tf.keras.callbacks.EarlyStopping(monitor='val_loss', patience=10),\n",
        "]"
      ]
    },
    {
      "cell_type": "code",
      "execution_count": 0,
      "metadata": {
        "colab": {
          "height": 1000
        },
        "colab_type": "code",
        "executionInfo": {
          "elapsed": 949409,
          "status": "ok",
          "timestamp": 1573834332504,
          "user": {
            "displayName": "",
            "photoUrl": "",
            "userId": ""
          },
          "user_tz": 300
        },
        "id": "-BjnHV7MWhK1",
        "outputId": "263f63ce-9c8a-40fb-bff4-e93970c2f804"
      },
      "outputs": [
        {
          "name": "stdout",
          "output_type": "stream",
          "text": [
            "Train on 199428 samples, validate on 49857 samples\n",
            "Epoch 1/400\n",
            "199428/199428 - 1s - loss: 18.0561 - val_loss: 15.2577\n",
            "Epoch 2/400\n",
            "199428/199428 - 1s - loss: 13.3657 - val_loss: 11.9011\n",
            "Epoch 3/400\n",
            "199428/199428 - 1s - loss: 10.7903 - val_loss: 9.9213\n",
            "Epoch 4/400\n",
            "199428/199428 - 1s - loss: 9.2033 - val_loss: 8.6430\n",
            "Epoch 5/400\n",
            "199428/199428 - 1s - loss: 8.1475 - val_loss: 7.7657\n",
            "Epoch 6/400\n",
            "199428/199428 - 1s - loss: 7.4057 - val_loss: 7.1342\n",
            "Epoch 7/400\n",
            "199428/199428 - 1s - loss: 6.8629 - val_loss: 6.6641\n",
            "Epoch 8/400\n",
            "199428/199428 - 1s - loss: 6.4531 - val_loss: 6.3038\n",
            "Epoch 9/400\n",
            "199428/199428 - 1s - loss: 6.1359 - val_loss: 6.0220\n",
            "Epoch 10/400\n",
            "199428/199428 - 1s - loss: 5.8853 - val_loss: 5.7972\n",
            "Epoch 11/400\n",
            "199428/199428 - 1s - loss: 5.6839 - val_loss: 5.6152\n",
            "Epoch 12/400\n",
            "199428/199428 - 1s - loss: 5.5198 - val_loss: 5.4656\n",
            "Epoch 13/400\n",
            "199428/199428 - 1s - loss: 5.3844 - val_loss: 5.3417\n",
            "Epoch 14/400\n",
            "199428/199428 - 1s - loss: 5.2715 - val_loss: 5.2380\n",
            "Epoch 15/400\n",
            "199428/199428 - 1s - loss: 5.1766 - val_loss: 5.1504\n",
            "Epoch 16/400\n",
            "199428/199428 - 1s - loss: 5.0962 - val_loss: 5.0758\n",
            "Epoch 17/400\n",
            "199428/199428 - 1s - loss: 5.0277 - val_loss: 5.0122\n",
            "Epoch 18/400\n",
            "199428/199428 - 1s - loss: 4.9690 - val_loss: 4.9576\n",
            "Epoch 19/400\n",
            "199428/199428 - 1s - loss: 4.9185 - val_loss: 4.9104\n",
            "Epoch 20/400\n",
            "199428/199428 - 1s - loss: 4.8748 - val_loss: 4.8696\n",
            "Epoch 21/400\n",
            "199428/199428 - 1s - loss: 4.8371 - val_loss: 4.8343\n",
            "Epoch 22/400\n",
            "199428/199428 - 1s - loss: 4.8043 - val_loss: 4.8036\n",
            "Epoch 23/400\n",
            "199428/199428 - 1s - loss: 4.7759 - val_loss: 4.7770\n",
            "Epoch 24/400\n",
            "199428/199428 - 1s - loss: 4.7512 - val_loss: 4.7538\n",
            "Epoch 25/400\n",
            "199428/199428 - 1s - loss: 4.7298 - val_loss: 4.7338\n",
            "Epoch 26/400\n",
            "199428/199428 - 1s - loss: 4.7114 - val_loss: 4.7165\n",
            "Epoch 27/400\n",
            "199428/199428 - 1s - loss: 4.6954 - val_loss: 4.7016\n",
            "Epoch 28/400\n",
            "199428/199428 - 1s - loss: 4.6818 - val_loss: 4.6889\n",
            "Epoch 29/400\n",
            "199428/199428 - 1s - loss: 4.6701 - val_loss: 4.6781\n",
            "Epoch 30/400\n",
            "199428/199428 - 1s - loss: 4.6602 - val_loss: 4.6690\n",
            "Epoch 31/400\n",
            "199428/199428 - 1s - loss: 4.6519 - val_loss: 4.6614\n",
            "Epoch 32/400\n",
            "199428/199428 - 1s - loss: 4.6450 - val_loss: 4.6550\n",
            "Epoch 33/400\n",
            "199428/199428 - 1s - loss: 4.6392 - val_loss: 4.6497\n",
            "Epoch 34/400\n",
            "199428/199428 - 1s - loss: 4.6344 - val_loss: 4.6454\n",
            "Epoch 35/400\n",
            "199428/199428 - 1s - loss: 4.6305 - val_loss: 4.6417\n",
            "Epoch 36/400\n",
            "199428/199428 - 1s - loss: 4.6272 - val_loss: 4.6387\n",
            "Epoch 37/400\n",
            "199428/199428 - 1s - loss: 4.6244 - val_loss: 4.6362\n",
            "Epoch 38/400\n",
            "199428/199428 - 1s - loss: 4.6221 - val_loss: 4.6341\n",
            "Epoch 39/400\n",
            "199428/199428 - 1s - loss: 4.6201 - val_loss: 4.6323\n",
            "Epoch 40/400\n",
            "199428/199428 - 1s - loss: 4.6183 - val_loss: 4.6307\n",
            "Epoch 41/400\n",
            "199428/199428 - 1s - loss: 4.6168 - val_loss: 4.6293\n",
            "Epoch 42/400\n",
            "199428/199428 - 1s - loss: 4.6155 - val_loss: 4.6281\n",
            "Epoch 43/400\n",
            "199428/199428 - 1s - loss: 4.6143 - val_loss: 4.6270\n",
            "Epoch 44/400\n",
            "199428/199428 - 1s - loss: 4.6132 - val_loss: 4.6260\n",
            "Epoch 45/400\n",
            "199428/199428 - 1s - loss: 4.6123 - val_loss: 4.6252\n",
            "Epoch 46/400\n",
            "199428/199428 - 1s - loss: 4.6114 - val_loss: 4.6244\n",
            "Epoch 47/400\n",
            "199428/199428 - 1s - loss: 4.6106 - val_loss: 4.6237\n",
            "Epoch 48/400\n",
            "199428/199428 - 1s - loss: 4.6099 - val_loss: 4.6231\n",
            "Epoch 49/400\n",
            "199428/199428 - 1s - loss: 4.6093 - val_loss: 4.6225\n",
            "Epoch 50/400\n",
            "199428/199428 - 1s - loss: 4.6087 - val_loss: 4.6220\n",
            "Epoch 51/400\n",
            "199428/199428 - 1s - loss: 4.6082 - val_loss: 4.6215\n",
            "Epoch 52/400\n",
            "199428/199428 - 1s - loss: 4.6077 - val_loss: 4.6211\n",
            "Epoch 53/400\n",
            "199428/199428 - 1s - loss: 4.6073 - val_loss: 4.6207\n",
            "Epoch 54/400\n",
            "199428/199428 - 1s - loss: 4.6069 - val_loss: 4.6203\n",
            "Epoch 55/400\n",
            "199428/199428 - 1s - loss: 4.6065 - val_loss: 4.6200\n",
            "Epoch 56/400\n",
            "199428/199428 - 1s - loss: 4.6062 - val_loss: 4.6198\n",
            "Epoch 57/400\n",
            "199428/199428 - 1s - loss: 4.6059 - val_loss: 4.6195\n",
            "Epoch 58/400\n",
            "199428/199428 - 1s - loss: 4.6057 - val_loss: 4.6193\n",
            "Epoch 59/400\n",
            "199428/199428 - 1s - loss: 4.6055 - val_loss: 4.6191\n",
            "Epoch 60/400\n",
            "199428/199428 - 1s - loss: 4.6053 - val_loss: 4.6189\n",
            "Epoch 61/400\n",
            "199428/199428 - 1s - loss: 4.6051 - val_loss: 4.6188\n",
            "Epoch 62/400\n",
            "199428/199428 - 1s - loss: 4.6049 - val_loss: 4.6187\n",
            "Epoch 63/400\n",
            "199428/199428 - 1s - loss: 4.6048 - val_loss: 4.6186\n",
            "Epoch 64/400\n",
            "199428/199428 - 1s - loss: 4.6047 - val_loss: 4.6185\n",
            "Epoch 65/400\n",
            "199428/199428 - 1s - loss: 4.6046 - val_loss: 4.6184\n",
            "Epoch 66/400\n",
            "199428/199428 - 1s - loss: 4.6045 - val_loss: 4.6183\n",
            "Epoch 67/400\n",
            "199428/199428 - 1s - loss: 4.6044 - val_loss: 4.6182\n",
            "Epoch 68/400\n",
            "199428/199428 - 1s - loss: 4.6043 - val_loss: 4.6182\n",
            "Epoch 69/400\n",
            "199428/199428 - 1s - loss: 4.6042 - val_loss: 4.6181\n",
            "Epoch 70/400\n",
            "199428/199428 - 1s - loss: 4.6042 - val_loss: 4.6180\n",
            "Epoch 71/400\n",
            "199428/199428 - 1s - loss: 4.6041 - val_loss: 4.6180\n",
            "Epoch 72/400\n",
            "199428/199428 - 1s - loss: 4.6041 - val_loss: 4.6180\n",
            "Epoch 73/400\n",
            "199428/199428 - 1s - loss: 4.6040 - val_loss: 4.6179\n",
            "Epoch 74/400\n",
            "199428/199428 - 1s - loss: 4.6040 - val_loss: 4.6179\n",
            "Epoch 75/400\n",
            "199428/199428 - 1s - loss: 4.6039 - val_loss: 4.6179\n",
            "Epoch 76/400\n",
            "199428/199428 - 1s - loss: 4.6039 - val_loss: 4.6178\n",
            "Epoch 77/400\n",
            "199428/199428 - 1s - loss: 4.6038 - val_loss: 4.6178\n",
            "Epoch 78/400\n",
            "199428/199428 - 1s - loss: 4.6038 - val_loss: 4.6177\n",
            "Epoch 79/400\n",
            "199428/199428 - 1s - loss: 4.6038 - val_loss: 4.6177\n",
            "Epoch 80/400\n",
            "199428/199428 - 1s - loss: 4.6037 - val_loss: 4.6177\n",
            "Epoch 81/400\n",
            "199428/199428 - 1s - loss: 4.6037 - val_loss: 4.6177\n",
            "Epoch 82/400\n",
            "199428/199428 - 1s - loss: 4.6037 - val_loss: 4.6176\n",
            "Epoch 83/400\n",
            "199428/199428 - 1s - loss: 4.6036 - val_loss: 4.6176\n",
            "Epoch 84/400\n",
            "199428/199428 - 1s - loss: 4.6036 - val_loss: 4.6176\n",
            "Epoch 85/400\n",
            "199428/199428 - 1s - loss: 4.6036 - val_loss: 4.6176\n",
            "Epoch 86/400\n",
            "199428/199428 - 1s - loss: 4.6035 - val_loss: 4.6176\n",
            "Epoch 87/400\n",
            "199428/199428 - 1s - loss: 4.6035 - val_loss: 4.6175\n",
            "Epoch 88/400\n",
            "199428/199428 - 1s - loss: 4.6035 - val_loss: 4.6175\n",
            "Epoch 89/400\n",
            "199428/199428 - 1s - loss: 4.6035 - val_loss: 4.6175\n",
            "Epoch 90/400\n",
            "199428/199428 - 1s - loss: 4.6034 - val_loss: 4.6175\n",
            "Epoch 91/400\n",
            "199428/199428 - 1s - loss: 4.6034 - val_loss: 4.6175\n",
            "Epoch 92/400\n",
            "199428/199428 - 1s - loss: 4.6034 - val_loss: 4.6175\n",
            "Epoch 93/400\n",
            "199428/199428 - 1s - loss: 4.6034 - val_loss: 4.6174\n",
            "Epoch 94/400\n",
            "199428/199428 - 1s - loss: 4.6034 - val_loss: 4.6174\n",
            "Epoch 95/400\n",
            "199428/199428 - 1s - loss: 4.6033 - val_loss: 4.6174\n",
            "Epoch 96/400\n",
            "199428/199428 - 1s - loss: 4.6033 - val_loss: 4.6174\n",
            "Epoch 97/400\n",
            "199428/199428 - 1s - loss: 4.6033 - val_loss: 4.6174\n",
            "Epoch 98/400\n",
            "199428/199428 - 1s - loss: 4.6033 - val_loss: 4.6174\n",
            "Epoch 99/400\n",
            "199428/199428 - 1s - loss: 4.6033 - val_loss: 4.6174\n",
            "Epoch 100/400\n",
            "199428/199428 - 1s - loss: 4.6033 - val_loss: 4.6174\n",
            "Epoch 101/400\n",
            "199428/199428 - 1s - loss: 4.6032 - val_loss: 4.6174\n",
            "Epoch 102/400\n",
            "199428/199428 - 1s - loss: 4.6032 - val_loss: 4.6174\n"
          ]
        }
      ],
      "source": [
        "history = model.fit(\n",
        "    x=x_train,\n",
        "    y=y_train,\n",
        "    batch_size=1024,\n",
        "    epochs=EPOCHS,\n",
        "    verbose=2,\n",
        "    callbacks=callbacks,\n",
        "    validation_data=(x_eval, y_eval)).history"
      ]
    },
    {
      "cell_type": "code",
      "execution_count": 0,
      "metadata": {
        "colab": {
          "height": 279
        },
        "colab_type": "code",
        "executionInfo": {
          "elapsed": 724,
          "status": "ok",
          "timestamp": 1573834333267,
          "user": {
            "displayName": "",
            "photoUrl": "",
            "userId": ""
          },
          "user_tz": 300
        },
        "id": "mAJGs5SebDeN",
        "outputId": "4e1037dd-98a6-47a6-ef04-a87a45d9f082"
      },
      "outputs": [
        {
          "data": {
            "image/png": "[encoded data removed]",
            "text/plain": [
              "\u003cmatplotlib.figure.Figure at 0x3c272fe39dd0\u003e"
            ]
          },
          "metadata": {
            "tags": []
          },
          "output_type": "display_data"
        }
      ],
      "source": [
        "pd.DataFrame(history)[['loss', 'val_loss']][2:].plot()"
      ]
    },
    {
      "cell_type": "markdown",
      "metadata": {
        "colab_type": "text",
        "id": "bHaiutmy2aYm"
      },
      "source": [
        "### Eval"
      ]
    },
    {
      "cell_type": "code",
      "execution_count": 0,
      "metadata": {
        "colab": {},
        "colab_type": "code",
        "id": "l6E_5gYAYQMw"
      },
      "outputs": [],
      "source": [
        "logits = model.predict(x=x_eval, batch_size=1024)\n",
        "y_pred = K.sigmoid(logits[..., :1]).numpy().flatten()"
      ]
    },
    {
      "cell_type": "code",
      "execution_count": 0,
      "metadata": {
        "colab": {},
        "colab_type": "code",
        "id": "ICTDpg4rxdlj"
      },
      "outputs": [],
      "source": [
        "y_true = (y_eval \u003e 0).astype('float32')"
      ]
    },
    {
      "cell_type": "code",
      "execution_count": 0,
      "metadata": {
        "colab": {},
        "colab_type": "code",
        "id": "POeY1gdKTwfx"
      },
      "outputs": [],
      "source": [
        "def classification_report(y_true: Sequence[int],\n",
        "                          y_pred: Sequence[float]) -\u003e pd.DataFrame:\n",
        "  \"\"\"Report individual level classification metrics.\n",
        "\n",
        "  Arguments:\n",
        "    y_true: true binary labels.\n",
        "    y_pred: predicted binary labels.\n",
        "\n",
        "  Returns:\n",
        "    out: dataframe with classification metrics as columns.\n",
        "  \"\"\"\n",
        "  out = pd.DataFrame(index=[0])\n",
        "\n",
        "  out['AUC'] = metrics.roc_auc_score(y_true, y_pred)\n",
        "  out['PR_AUC'] = metrics.average_precision_score(y_true, y_pred)\n",
        "  out['precision'] = metrics.precision_score(y_true, 1 * (y_pred \u003e .5))\n",
        "  out['recall'] = metrics.recall_score(y_true, 1 * (y_pred \u003e .5))\n",
        "  out['f1'] = metrics.f1_score(y_true, 1 * (y_pred \u003e .5))\n",
        "  return out"
      ]
    },
    {
      "cell_type": "code",
      "execution_count": 0,
      "metadata": {
        "colab": {
          "height": 80
        },
        "colab_type": "code",
        "executionInfo": {
          "elapsed": 87,
          "status": "ok",
          "timestamp": 1573834333635,
          "user": {
            "displayName": "",
            "photoUrl": "",
            "userId": ""
          },
          "user_tz": 300
        },
        "id": "vGcWU2vFaeT1",
        "outputId": "9ab08418-87ec-4520-a65a-c2646bceeb75"
      },
      "outputs": [
        {
          "data": {
            "text/html": [
              "\u003cdiv\u003e\n",
              "\u003cstyle scoped\u003e\n",
              "    .dataframe tbody tr th:only-of-type {\n",
              "        vertical-align: middle;\n",
              "    }\n",
              "\n",
              "    .dataframe tbody tr th {\n",
              "        vertical-align: top;\n",
              "    }\n",
              "\n",
              "    .dataframe thead th {\n",
              "        text-align: right;\n",
              "    }\n",
              "\u003c/style\u003e\n",
              "\u003ctable border=\"1\" class=\"dataframe\"\u003e\n",
              "  \u003cthead\u003e\n",
              "    \u003ctr style=\"text-align: right;\"\u003e\n",
              "      \u003cth\u003e\u003c/th\u003e\n",
              "      \u003cth\u003eAUC\u003c/th\u003e\n",
              "      \u003cth\u003ePR_AUC\u003c/th\u003e\n",
              "      \u003cth\u003eprecision\u003c/th\u003e\n",
              "      \u003cth\u003erecall\u003c/th\u003e\n",
              "      \u003cth\u003ef1\u003c/th\u003e\n",
              "    \u003c/tr\u003e\n",
              "  \u003c/thead\u003e\n",
              "  \u003ctbody\u003e\n",
              "    \u003ctr\u003e\n",
              "      \u003cth\u003e0\u003c/th\u003e\n",
              "      \u003ctd\u003e0.657588\u003c/td\u003e\n",
              "      \u003ctd\u003e0.906241\u003c/td\u003e\n",
              "      \u003ctd\u003e0.845141\u003c/td\u003e\n",
              "      \u003ctd\u003e0.998313\u003c/td\u003e\n",
              "      \u003ctd\u003e0.915364\u003c/td\u003e\n",
              "    \u003c/tr\u003e\n",
              "  \u003c/tbody\u003e\n",
              "\u003c/table\u003e\n",
              "\u003c/div\u003e"
            ],
            "text/plain": [
              "        AUC    PR_AUC  precision    recall        f1\n",
              "0  0.657588  0.906241   0.845141  0.998313  0.915364"
            ]
          },
          "execution_count": 27,
          "metadata": {
            "tags": []
          },
          "output_type": "execute_result"
        }
      ],
      "source": [
        "classification = classification_report(y_true, y_pred)\n",
        "classification"
      ]
    },
    {
      "cell_type": "markdown",
      "metadata": {
        "colab_type": "text",
        "id": "-i_AbqhXcurk"
      },
      "source": [
        "### All metrics together"
      ]
    },
    {
      "cell_type": "code",
      "execution_count": 0,
      "metadata": {
        "colab": {},
        "colab_type": "code",
        "id": "Umqg1-0Bc1HS"
      },
      "outputs": [],
      "source": [
        "df_metrics = pd.DataFrame(\n",
        "    {\n",
        "        'company': COMPANY,\n",
        "        'model': MODEL,\n",
        "        'loss': LOSS,\n",
        "        'label_mean': y_true.mean(),\n",
        "        'pred_mean': y_pred.mean(),\n",
        "        'AUC': classification.loc[0, 'AUC'],\n",
        "        'PR_AUC': classification.loc[0, 'PR_AUC'],\n",
        "        'precision': classification.loc[0, 'precision'],\n",
        "        'recall': classification.loc[0, 'recall'],\n",
        "        'f1': classification.loc[0, 'f1']\n",
        "    },\n",
        "    index=[0])"
      ]
    },
    {
      "cell_type": "code",
      "execution_count": 0,
      "metadata": {
        "colab": {
          "height": 80
        },
        "colab_type": "code",
        "executionInfo": {
          "elapsed": 29,
          "status": "ok",
          "timestamp": 1573834333707,
          "user": {
            "displayName": "",
            "photoUrl": "",
            "userId": ""
          },
          "user_tz": 300
        },
        "id": "1LV1Hs3xcxnd",
        "outputId": "b4b52f38-3d40-4288-926d-e38001a7bd40"
      },
      "outputs": [
        {
          "data": {
            "text/html": [
              "\u003cdiv\u003e\n",
              "\u003cstyle scoped\u003e\n",
              "    .dataframe tbody tr th:only-of-type {\n",
              "        vertical-align: middle;\n",
              "    }\n",
              "\n",
              "    .dataframe tbody tr th {\n",
              "        vertical-align: top;\n",
              "    }\n",
              "\n",
              "    .dataframe thead th {\n",
              "        text-align: right;\n",
              "    }\n",
              "\u003c/style\u003e\n",
              "\u003ctable border=\"1\" class=\"dataframe\"\u003e\n",
              "  \u003cthead\u003e\n",
              "    \u003ctr style=\"text-align: right;\"\u003e\n",
              "      \u003cth\u003e\u003c/th\u003e\n",
              "      \u003cth\u003ecompany\u003c/th\u003e\n",
              "      \u003cth\u003emodel\u003c/th\u003e\n",
              "      \u003cth\u003eloss\u003c/th\u003e\n",
              "      \u003cth\u003elabel_mean\u003c/th\u003e\n",
              "      \u003cth\u003epred_mean\u003c/th\u003e\n",
              "      \u003cth\u003eAUC\u003c/th\u003e\n",
              "      \u003cth\u003ePR_AUC\u003c/th\u003e\n",
              "      \u003cth\u003eprecision\u003c/th\u003e\n",
              "      \u003cth\u003erecall\u003c/th\u003e\n",
              "      \u003cth\u003ef1\u003c/th\u003e\n",
              "    \u003c/tr\u003e\n",
              "  \u003c/thead\u003e\n",
              "  \u003ctbody\u003e\n",
              "    \u003ctr\u003e\n",
              "      \u003cth\u003e0\u003c/th\u003e\n",
              "      \u003ctd\u003e104900040\u003c/td\u003e\n",
              "      \u003ctd\u003elinear\u003c/td\u003e\n",
              "      \u003ctd\u003eziln\u003c/td\u003e\n",
              "      \u003ctd\u003e0.844395\u003c/td\u003e\n",
              "      \u003ctd\u003e0.84196\u003c/td\u003e\n",
              "      \u003ctd\u003e0.657588\u003c/td\u003e\n",
              "      \u003ctd\u003e0.906241\u003c/td\u003e\n",
              "      \u003ctd\u003e0.845141\u003c/td\u003e\n",
              "      \u003ctd\u003e0.998313\u003c/td\u003e\n",
              "      \u003ctd\u003e0.915364\u003c/td\u003e\n",
              "    \u003c/tr\u003e\n",
              "  \u003c/tbody\u003e\n",
              "\u003c/table\u003e\n",
              "\u003c/div\u003e"
            ],
            "text/plain": [
              "     company   model  loss  label_mean  pred_mean       AUC    PR_AUC  precision    recall        f1\n",
              "0  104900040  linear  ziln    0.844395    0.84196  0.657588  0.906241   0.845141  0.998313  0.915364"
            ]
          },
          "execution_count": 29,
          "metadata": {
            "tags": []
          },
          "output_type": "execute_result"
        }
      ],
      "source": [
        "df_metrics[[\n",
        "    'company',\n",
        "    'model',\n",
        "    'loss',\n",
        "    'label_mean',\n",
        "    'pred_mean',\n",
        "    'AUC',\n",
        "    'PR_AUC',\n",
        "    'precision',\n",
        "    'recall',\n",
        "    'f1',\n",
        "]]"
      ]
    },
    {
      "cell_type": "markdown",
      "metadata": {
        "colab_type": "text",
        "id": "UVy6lYn4mSrj"
      },
      "source": [
        "## Save"
      ]
    },
    {
      "cell_type": "code",
      "execution_count": 0,
      "metadata": {
        "colab": {},
        "colab_type": "code",
        "id": "mtkQ4mqUEFsb"
      },
      "outputs": [],
      "source": [
        "output_path = os.path.join(OUTPUT_CSV_FOLDER, COMPANY)"
      ]
    },
    {
      "cell_type": "code",
      "execution_count": 0,
      "metadata": {
        "colab": {},
        "colab_type": "code",
        "id": "3qmLzJqOEFsm"
      },
      "outputs": [],
      "source": [
        "if not os.path.isdir(output_path):\n",
        "  os.makedirs(output_path)"
      ]
    },
    {
      "cell_type": "code",
      "execution_count": 0,
      "metadata": {
        "colab": {},
        "colab_type": "code",
        "id": "61B5Zc_UEFsr"
      },
      "outputs": [],
      "source": [
        "output_file = os.path.join(output_path,\n",
        "                           '{}_classification_{}.csv'.format(MODEL, LOSS))"
      ]
    },
    {
      "cell_type": "code",
      "execution_count": 0,
      "metadata": {
        "colab": {},
        "colab_type": "code",
        "id": "gqglbXfwEFsv"
      },
      "outputs": [],
      "source": [
        "df_metrics.to_csv(output_file, index=False)"
      ]
    }
  ],
  "metadata": {
    "colab": {
      "collapsed_sections": [],
      "last_runtime": {
        "build_target": "",
        "kind": "local"
      },
      "name": "classification.ipynb",
      "provenance": [],
      "toc_visible": true
    },
    "kernelspec": {
      "display_name": "Python 2",
      "name": "python2"
    }
  },
  "nbformat": 4,
  "nbformat_minor": 0
}
