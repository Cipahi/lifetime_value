{
  "cells": [
    {
      "cell_type": "code",
      "execution_count": 0,
      "metadata": {
        "colab": {},
        "colab_type": "code",
        "id": "5RoRxBv3bRjy"
      },
      "outputs": [],
      "source": [
        "#@title Copyright 2019 The Lifetime Value Authors.\n",
        "# Licensed under the Apache License, Version 2.0 (the \"License\");\n",
        "# you may not use this file except in compliance with the License.\n",
        "# You may obtain a copy of the License at\n",
        "#\n",
        "#     https://www.apache.org/licenses/LICENSE-2.0\n",
        "#\n",
        "# Unless required by applicable law or agreed to in writing, software\n",
        "# distributed under the License is distributed on an \"AS IS\" BASIS,\n",
        "# WITHOUT WARRANTIES OR CONDITIONS OF ANY KIND, either express or implied.\n",
        "# See the License for the specific language governing permissions and\n",
        "# limitations under the License.\n",
        "# ============================================================================"
      ]
    },
    {
      "cell_type": "markdown",
      "metadata": {
        "colab_type": "text",
        "id": "2tkQUXmWhqRY"
      },
      "source": [
        "# Lifetime Value prediction for Kaggle Acquire Valued Customer Challenge"
      ]
    },
    {
      "cell_type": "markdown",
      "metadata": {
        "colab_type": "text",
        "id": "Pw8bm9nV6YJ5"
      },
      "source": [
        "\u003ctable align=\"left\"\u003e\n",
        "  \u003ctd\u003e\n",
        "    \u003ca target=\"_blank\" href=\"https://colab.research.google.com/github/google/lifetime_value/blob/master/notebooks/kaggle_acquire_valued_shoppers_challenge/regression.ipynb\"\u003e\u003cimg src=\"https://www.tensorflow.org/images/colab_logo_32px.png\" /\u003eRun in Google Colab\u003c/a\u003e\n",
        "  \u003c/td\u003e\n",
        "  \u003ctd\u003e\n",
        "    \u003ca target=\"_blank\" href=\"https://github.com/google/lifetime_value/blob/master/notebooks/kaggle_acquire_valued_shoppers_challenge/regression.ipynb\"\u003e\u003cimg src=\"https://www.tensorflow.org/images/GitHub-Mark-32px.png\" /\u003eView source on GitHub\u003c/a\u003e\n",
        "  \u003c/td\u003e\n",
        "\u003c/table\u003e"
      ]
    },
    {
      "cell_type": "code",
      "execution_count": 0,
      "metadata": {
        "colab": {},
        "colab_type": "code",
        "id": "KObdQwyXH2mC"
      },
      "outputs": [],
      "source": [
        "\n",
        "\n",
        "import os\n",
        "\n",
        "import numpy as np\n",
        "import pandas as pd\n",
        "from scipy import stats\n",
        "import seaborn as sns\n",
        "from sklearn import model_selection\n",
        "from sklearn import preprocessing\n",
        "import tensorflow as tf\n",
        "from tensorflow import keras\n",
        "from tensorflow.keras import backend as K\n",
        "import tensorflow_probability as tfp\n",
        "import tqdm\n",
        "from typing import Sequence\n",
        "\n",
        "# install and import ltv\n",
        "!pip install -q git+https://github.com/google/lifetime_value\n",
        "import lifetime_value as ltv"
      ]
    },
    {
      "cell_type": "code",
      "execution_count": 0,
      "metadata": {
        "colab": {},
        "colab_type": "code",
        "id": "K41RmAfNXtu_"
      },
      "outputs": [],
      "source": [
        "tfd = tfp.distributions\n",
        "tf.enable_eager_execution()\n",
        "%config InlineBackend.figure_format='retina'\n",
        "sns.set_style('whitegrid')\n",
        "pd.options.mode.chained_assignment = None  # default='warn'"
      ]
    },
    {
      "cell_type": "markdown",
      "metadata": {
        "colab_type": "text",
        "id": "DoN-PRvNuIti"
      },
      "source": [
        "## Global variables"
      ]
    },
    {
      "cell_type": "code",
      "execution_count": 0,
      "metadata": {
        "cellView": "both",
        "colab": {},
        "colab_type": "code",
        "id": "3GGpDbxd3S5L"
      },
      "outputs": [],
      "source": [
        "COMPANY = '103600030'  # @param { isTemplate: true, type: 'string'}\n",
        "LOSS = 'ziln'  # @param { isTemplate: true, type: 'string'} ['mse', 'ziln']\n",
        "MODEL = 'dnn'  # @param { isTemplate: true, type: 'string'} ['linear', 'dnn']\n",
        "LEARNING_RATE = 0.0002  # @param { isTemplate: true}\n",
        "EPOCHS = 400  # @param { isTemplate: true, type: 'integer'}\n",
        "OUTPUT_CSV_FOLDER = '/tmp/lifetime-value/kaggle_acquire_valued_shoppers_challenge/result'  # @param { isTemplate: true, type: 'string'}"
      ]
    },
    {
      "cell_type": "code",
      "execution_count": 0,
      "metadata": {
        "colab": {},
        "colab_type": "code",
        "id": "UK9Y5NoMtm3X"
      },
      "outputs": [],
      "source": [
        "CATEGORICAL_FEATURES = ['chain', 'dept', 'category', 'brand', 'productmeasure']\n",
        "NUMERIC_FEATURES = ['log_calibration_value']\n",
        "\n",
        "ALL_FEATURES = CATEGORICAL_FEATURES + NUMERIC_FEATURES"
      ]
    },
    {
      "cell_type": "markdown",
      "metadata": {
        "colab_type": "text",
        "id": "RzTaK6fFXMWT"
      },
      "source": [
        "## Data"
      ]
    },
    {
      "cell_type": "markdown",
      "metadata": {
        "colab_type": "text",
        "id": "SFi0JMPu138h"
      },
      "source": [
        "### Download data"
      ]
    },
    {
      "cell_type": "markdown",
      "metadata": {
        "colab_type": "text",
        "id": "krXMbrkVNtdN"
      },
      "source": [
        "Setup kaggle API correctly following https://www.kaggle.com/docs/api"
      ]
    },
    {
      "cell_type": "code",
      "execution_count": 0,
      "metadata": {
        "colab": {
          "height": 34
        },
        "colab_type": "code",
        "executionInfo": {
          "elapsed": 73,
          "status": "ok",
          "timestamp": 1574346626993,
          "user": {
            "displayName": "",
            "photoUrl": "",
            "userId": ""
          },
          "user_tz": 300
        },
        "id": "0gf4ipd-14x0",
        "outputId": "d13ece62-5a17-4be8-a891-b0570a408f39"
      },
      "outputs": [
        {
          "data": {
            "application/javascript": [
              "window[\"7606cf00-0c6b-11ea-bbfc-f4939fead5ca\"] = colab.output.setWordWrap(true);\n",
              "//# sourceURL=js_153ba41956"
            ],
            "text/plain": [
              "\u003cIPython.core.display.Javascript at 0x35d5b10564d0\u003e"
            ]
          },
          "metadata": {
            "tags": []
          },
          "output_type": "display_data"
        },
        {
          "data": {
            "application/javascript": [
              "window[\"7609e26b-0c6b-11ea-9c2b-f4939fead5ca\"] = jQuery(\"\u003cdiv class=id_426465638 style=\\\"margin-right:10px; display:flex;align-items:center;margin-top:10px;\\\"\u003e\u003cspan style=\\\"margin-right: 3px;\\\"\u003e\u003c/span\u003e\u003c/div\u003e\");\n",
              "//# sourceURL=js_bf8d212acf"
            ],
            "text/plain": [
              "\u003cIPython.core.display.Javascript at 0x35d5b10565d0\u003e"
            ]
          },
          "metadata": {
            "tags": []
          },
          "output_type": "display_data"
        },
        {
          "data": {
            "application/javascript": [
              "window[\"760a34e3-0c6b-11ea-b82a-f4939fead5ca\"] = jQuery(\"#output-footer\");\n",
              "//# sourceURL=js_a06970415e"
            ],
            "text/plain": [
              "\u003cIPython.core.display.Javascript at 0x35d5b1056790\u003e"
            ]
          },
          "metadata": {
            "tags": []
          },
          "output_type": "display_data"
        },
        {
          "data": {
            "application/javascript": [
              "window[\"760a6763-0c6b-11ea-b34b-f4939fead5ca\"] = window[\"7609e26b-0c6b-11ea-9c2b-f4939fead5ca\"].appendTo(window[\"760a34e3-0c6b-11ea-b82a-f4939fead5ca\"]);\n",
              "//# sourceURL=js_556aac7090"
            ],
            "text/plain": [
              "\u003cIPython.core.display.Javascript at 0x35d5b10568d0\u003e"
            ]
          },
          "metadata": {
            "tags": []
          },
          "output_type": "display_data"
        },
        {
          "data": {
            "application/javascript": [
              "window[\"760a9f05-0c6b-11ea-92d4-f4939fead5ca\"] = jQuery(\".id_426465638 span\");\n",
              "//# sourceURL=js_2d3dffd310"
            ],
            "text/plain": [
              "\u003cIPython.core.display.Javascript at 0x35d5b1056590\u003e"
            ]
          },
          "metadata": {
            "tags": []
          },
          "output_type": "display_data"
        },
        {
          "data": {
            "application/javascript": [
              "window[\"760acc2b-0c6b-11ea-ba6c-f4939fead5ca\"] = window[\"760a9f05-0c6b-11ea-92d4-f4939fead5ca\"].text(\"\u003e\");\n",
              "//# sourceURL=js_705ced93f9"
            ],
            "text/plain": [
              "\u003cIPython.core.display.Javascript at 0x35d5b1056610\u003e"
            ]
          },
          "metadata": {
            "tags": []
          },
          "output_type": "display_data"
        },
        {
          "name": "stdout",
          "output_type": "stream",
          "text": [
            "File already exists, no need to download.\n"
          ]
        },
        {
          "data": {
            "application/javascript": [
              "window[\"760b669e-0c6b-11ea-84bf-f4939fead5ca\"] = jQuery(\".id_426465638\");\n",
              "//# sourceURL=js_7926cf5001"
            ],
            "text/plain": [
              "\u003cIPython.core.display.Javascript at 0x35d5b1056690\u003e"
            ]
          },
          "metadata": {
            "tags": []
          },
          "output_type": "display_data"
        },
        {
          "data": {
            "application/javascript": [
              "window[\"760b835e-0c6b-11ea-9038-f4939fead5ca\"] = window[\"760b669e-0c6b-11ea-84bf-f4939fead5ca\"].remove();\n",
              "//# sourceURL=js_358e4ddd5c"
            ],
            "text/plain": [
              "\u003cIPython.core.display.Javascript at 0x35d5b1056950\u003e"
            ]
          },
          "metadata": {
            "tags": []
          },
          "output_type": "display_data"
        }
      ],
      "source": [
        "%%shell\n",
        "if [ -e /tmp/lifetime-value/acquire-valued-shoppers-challenge/transactions.csv ]\n",
        "then\n",
        "  echo \"File already exists, no need to download.\"\n",
        "else\n",
        "  rm -rf /tmp/lifetime-value/acquire-valued-shoppers-challenge\n",
        "  mkdir /tmp/lifetime-value/acquire-valued-shoppers-challenge\n",
        "  cd /tmp/lifetime-value/acquire-valued-shoppers-challenge\n",
        "  kaggle competitions download -c acquire-valued-shoppers-challenge\n",
        "  unzip acquire-valued-shoppers-challenge.zip\n",
        "  gunzip transactions.csv.gz\n",
        "fi"
      ]
    },
    {
      "cell_type": "markdown",
      "metadata": {
        "colab_type": "text",
        "id": "IT53azGsa2a2"
      },
      "source": [
        "### Load transaction csv"
      ]
    },
    {
      "cell_type": "code",
      "execution_count": 0,
      "metadata": {
        "colab": {},
        "colab_type": "code",
        "id": "5tIMvE3dW1Ky"
      },
      "outputs": [],
      "source": [
        "def load_transaction_data(company):\n",
        "  all_data_filename = '/tmp/lifetime-value/acquire-valued-shoppers-challenge/transactions.csv'\n",
        "  one_company_data_filename = (\n",
        "      '/tmp/lifetime-value/acquire-valued-shoppers-challenge/transactions_company_{}.csv'\n",
        "      .format(COMPANY))\n",
        "  if os.path.isfile(one_company_data_filename):\n",
        "    df = pd.read_csv(one_company_data_filename)\n",
        "  else:\n",
        "    data_list = []\n",
        "    chunksize = 10**6\n",
        "    # 350 iterations\n",
        "    for chunk in tqdm.tqdm(pd.read_csv(all_data_filename, chunksize=chunksize)):\n",
        "      data_list.append(chunk.query(\"company=='{}'\".format(company)))\n",
        "    df = pd.concat(data_list, axis=0)\n",
        "    df.to_csv(one_company_data_filename, index=None)\n",
        "  return df"
      ]
    },
    {
      "cell_type": "markdown",
      "metadata": {
        "colab_type": "text",
        "id": "9ra4bfwCVwKn"
      },
      "source": [
        "### Preprocess data"
      ]
    },
    {
      "cell_type": "code",
      "execution_count": 0,
      "metadata": {
        "colab": {},
        "colab_type": "code",
        "id": "PlJl5g9Delmi"
      },
      "outputs": [],
      "source": [
        "def preprocess(df):\n",
        "  df = df.query('purchaseamount\u003e0')\n",
        "  df['date'] = pd.to_datetime(df['date'], format='%Y-%m-%d')\n",
        "  df['start_date'] = df.groupby('id')['date'].transform('min')\n",
        "\n",
        "  # Compute calibration values\n",
        "  calibration_value = (\n",
        "      df.query('date==start_date').groupby('id')\n",
        "      ['purchaseamount'].sum().reset_index())\n",
        "  calibration_value.columns = ['id', 'calibration_value']\n",
        "\n",
        "  # Compute holdout values\n",
        "  one_year_holdout_window_mask = (\n",
        "      (df['date'] \u003e df['start_date']) \u0026\n",
        "      (df['date'] \u003c= df['start_date'] + np.timedelta64(365, 'D')))\n",
        "  holdout_value = (\n",
        "      df[one_year_holdout_window_mask].groupby('id')\n",
        "      ['purchaseamount'].sum().reset_index())\n",
        "  holdout_value.columns = ['id', 'holdout_value']\n",
        "\n",
        "  # Compute calibration attributes\n",
        "  calibration_attributes = (\n",
        "      df.query('date==start_date').sort_values(\n",
        "          'purchaseamount', ascending=False).groupby('id')[[\n",
        "              'chain', 'dept', 'category', 'brand', 'productmeasure'\n",
        "          ]].first().reset_index())\n",
        "\n",
        "  # Merge dataframes\n",
        "  customer_level_data = (\n",
        "      calibration_value.merge(calibration_attributes, how='left',\n",
        "                              on='id').merge(\n",
        "                                  holdout_value, how='left', on='id'))\n",
        "  customer_level_data['holdout_value'] = (\n",
        "      customer_level_data['holdout_value'].fillna(0.))\n",
        "  customer_level_data[CATEGORICAL_FEATURES] = (\n",
        "      customer_level_data[CATEGORICAL_FEATURES].fillna('UNKNOWN'))\n",
        "\n",
        "  # Specify data types\n",
        "  customer_level_data['log_calibration_value'] = (\n",
        "      np.log(customer_level_data['calibration_value']).astype('float32'))\n",
        "  customer_level_data['chain'] = (\n",
        "      customer_level_data['chain'].astype('category'))\n",
        "  customer_level_data['dept'] = (customer_level_data['dept'].astype('category'))\n",
        "  customer_level_data['brand'] = (\n",
        "      customer_level_data['brand'].astype('category'))\n",
        "  customer_level_data['category'] = (\n",
        "      customer_level_data['category'].astype('category'))\n",
        "  customer_level_data['label'] = (\n",
        "      customer_level_data['holdout_value'].astype('float32'))\n",
        "  return customer_level_data"
      ]
    },
    {
      "cell_type": "markdown",
      "metadata": {
        "colab_type": "text",
        "id": "fP3q6uuMoXhA"
      },
      "source": [
        "### Load customer-level csv"
      ]
    },
    {
      "cell_type": "code",
      "execution_count": 0,
      "metadata": {
        "colab": {},
        "colab_type": "code",
        "id": "X8B4zV1xoeMX"
      },
      "outputs": [],
      "source": [
        "def load_customer_level_csv(company):\n",
        "  customer_level_data_file = (\n",
        "      '/tmp/lifetime-value/acquire-valued-shoppers-challenge/customer_level_data_company_{}.csv'\n",
        "      .format(company))\n",
        "  if os.path.isfile(customer_level_data_file):\n",
        "    customer_level_data = pd.read_csv(customer_level_data_file)\n",
        "  else:\n",
        "    customer_level_data = preprocess(load_transaction_data(company))\n",
        "  for cat_col in CATEGORICAL_FEATURES:\n",
        "    customer_level_data[cat_col] = (\n",
        "        customer_level_data[cat_col].astype('category'))\n",
        "  for num_col in [\n",
        "      'log_calibration_value', 'calibration_value', 'holdout_value'\n",
        "  ]:\n",
        "    customer_level_data[num_col] = (\n",
        "        customer_level_data[num_col].astype('float32'))\n",
        "\n",
        "  return customer_level_data"
      ]
    },
    {
      "cell_type": "code",
      "execution_count": 0,
      "metadata": {
        "colab": {},
        "colab_type": "code",
        "id": "88dVPdt5QWpu"
      },
      "outputs": [],
      "source": [
        "customer_level_data = load_customer_level_csv(COMPANY)"
      ]
    },
    {
      "cell_type": "markdown",
      "metadata": {
        "colab_type": "text",
        "id": "09tqgvANtsil"
      },
      "source": [
        "We observe a mixture of zero and lognormal distribution of holdout value."
      ]
    },
    {
      "cell_type": "code",
      "execution_count": 0,
      "metadata": {
        "colab": {
          "height": 296
        },
        "colab_type": "code",
        "executionInfo": {
          "elapsed": 213,
          "status": "ok",
          "timestamp": 1574346627591,
          "user": {
            "displayName": "",
            "photoUrl": "",
            "userId": ""
          },
          "user_tz": 300
        },
        "id": "BtF0z3VbmGev",
        "outputId": "027ec460-5e33-424f-a2c4-5add09c9130b"
      },
      "outputs": [
        {
          "data": {
            "text/plain": [
              "\u003cmatplotlib.axes._subplots.AxesSubplot at 0x35d5b1058e10\u003e"
            ]
          },
          "execution_count": 11,
          "metadata": {
            "tags": []
          },
          "output_type": "execute_result"
        },
        {
          "data": {
            "image/png": "[encoded data removed]",
            "text/plain": [
              "\u003cmatplotlib.figure.Figure at 0x35d5b1058b90\u003e"
            ]
          },
          "metadata": {
            "image/png": {
              "height": 262,
              "width": 401
            },
            "tags": []
          },
          "output_type": "display_data"
        }
      ],
      "source": [
        "customer_level_data.label.apply(np.log1p).hist(bins=50)"
      ]
    },
    {
      "cell_type": "markdown",
      "metadata": {
        "colab_type": "text",
        "id": "i4kN0uk4kZ68"
      },
      "source": [
        "### Make train/eval"
      ]
    },
    {
      "cell_type": "code",
      "execution_count": 0,
      "metadata": {
        "colab": {},
        "colab_type": "code",
        "id": "nc0MLKx2yD72"
      },
      "outputs": [],
      "source": [
        "def linear_split(df):\n",
        "  # get_dummies preserves numeric features.\n",
        "  x = pd.get_dummies(df[ALL_FEATURES], drop_first=True).astype('float32').values\n",
        "  y = df['label'].values\n",
        "  y0 = df['calibration_value'].values\n",
        "\n",
        "  x_train, x_eval, y_train, y_eval, y0_train, y0_eval = (\n",
        "      model_selection.train_test_split(\n",
        "          x, y, y0, test_size=0.2, random_state=123))\n",
        "\n",
        "  return x_train, x_eval, y_train, y_eval, y0_eval"
      ]
    },
    {
      "cell_type": "code",
      "execution_count": 0,
      "metadata": {
        "colab": {},
        "colab_type": "code",
        "id": "eAGbXp9ax042"
      },
      "outputs": [],
      "source": [
        "def dnn_split(df):\n",
        "  for key in CATEGORICAL_FEATURES:\n",
        "    encoder = preprocessing.LabelEncoder()\n",
        "    df[key] = encoder.fit_transform(df[key])\n",
        "\n",
        "  y0 = df['calibration_value'].values\n",
        "  df_train, df_eval, y0_train, y0_eval = model_selection.train_test_split(\n",
        "      df, y0, test_size=0.2, random_state=123)\n",
        "\n",
        "  def feature_dict(df):\n",
        "    features = {k: v.values for k, v in dict(df[CATEGORICAL_FEATURES]).items()}\n",
        "    features['numeric'] = df[NUMERIC_FEATURES].values\n",
        "    return features\n",
        "\n",
        "  x_train, y_train = feature_dict(df_train), df_train['label'].values\n",
        "  x_eval, y_eval = feature_dict(df_eval), df_eval['label'].values\n",
        "\n",
        "  return x_train, x_eval, y_train, y_eval, y0_eval"
      ]
    },
    {
      "cell_type": "markdown",
      "metadata": {
        "colab_type": "text",
        "id": "lqbShWBzR4NE"
      },
      "source": [
        "## Model"
      ]
    },
    {
      "cell_type": "code",
      "execution_count": 0,
      "metadata": {
        "colab": {},
        "colab_type": "code",
        "id": "RAOttr0W0yTM"
      },
      "outputs": [],
      "source": [
        "def linear_model(output_units):\n",
        "  return tf.keras.experimental.LinearModel(output_units)"
      ]
    },
    {
      "cell_type": "code",
      "execution_count": 0,
      "metadata": {
        "colab": {},
        "colab_type": "code",
        "id": "Q7huREFbR7Dl"
      },
      "outputs": [],
      "source": [
        "def embedding_dim(x):\n",
        "  return int(x**.25) + 1\n",
        "\n",
        "\n",
        "def embedding_layer(vocab_size):\n",
        "  return tf.keras.Sequential([\n",
        "      tf.keras.layers.Embedding(\n",
        "          input_dim=vocab_size,\n",
        "          output_dim=embedding_dim(vocab_size),\n",
        "          input_length=1),\n",
        "      tf.keras.layers.Flatten(),\n",
        "  ])\n",
        "\n",
        "\n",
        "def dnn_model(output_units, df):\n",
        "  numeric_input = tf.keras.layers.Input(\n",
        "      shape=(len(NUMERIC_FEATURES),), name='numeric')\n",
        "\n",
        "  embedding_inputs = [\n",
        "      tf.keras.layers.Input(shape=(1,), name=key, dtype=np.int64)\n",
        "      for key in CATEGORICAL_FEATURES\n",
        "  ]\n",
        "\n",
        "  embedding_outputs = [\n",
        "      embedding_layer(vocab_size=df[key].nunique())(input)\n",
        "      for key, input in zip(CATEGORICAL_FEATURES, embedding_inputs)\n",
        "  ]\n",
        "\n",
        "  deep_input = tf.keras.layers.concatenate([numeric_input] + embedding_outputs)\n",
        "  deep_model = tf.keras.Sequential([\n",
        "      tf.keras.layers.Dense(64, activation='relu'),\n",
        "      tf.keras.layers.Dense(32, activation='relu'),\n",
        "      tf.keras.layers.Dense(output_units),\n",
        "  ])\n",
        "  return tf.keras.Model(\n",
        "      inputs=[numeric_input] + embedding_inputs, outputs=deep_model(deep_input))"
      ]
    },
    {
      "cell_type": "markdown",
      "metadata": {
        "colab_type": "text",
        "id": "U8l-KzZ12fbK"
      },
      "source": [
        "### Train"
      ]
    },
    {
      "cell_type": "code",
      "execution_count": 0,
      "metadata": {
        "colab": {},
        "colab_type": "code",
        "id": "L3HzXsj61uy3"
      },
      "outputs": [],
      "source": [
        "if LOSS == 'mse':\n",
        "  loss = keras.losses.MeanSquaredError()\n",
        "  output_units = 1\n",
        "\n",
        "if LOSS == 'ziln':\n",
        "  loss = ltv.zero_inflated_lognormal_loss\n",
        "  output_units = 3"
      ]
    },
    {
      "cell_type": "code",
      "execution_count": 0,
      "metadata": {
        "colab": {},
        "colab_type": "code",
        "id": "0pNM4q5m19Dv"
      },
      "outputs": [],
      "source": [
        "if MODEL == 'linear':\n",
        "  x_train, x_eval, y_train, y_eval, y0_eval = linear_split(customer_level_data)\n",
        "  model = linear_model(output_units)\n",
        "\n",
        "if MODEL == 'dnn':\n",
        "  x_train, x_eval, y_train, y_eval, y0_eval = dnn_split(customer_level_data)\n",
        "  model = dnn_model(output_units, customer_level_data)"
      ]
    },
    {
      "cell_type": "code",
      "execution_count": 0,
      "metadata": {
        "colab": {},
        "colab_type": "code",
        "id": "Un-yJPHp31gp"
      },
      "outputs": [],
      "source": [
        "model.compile(loss=loss, optimizer=keras.optimizers.Adam(lr=LEARNING_RATE))"
      ]
    },
    {
      "cell_type": "code",
      "execution_count": 0,
      "metadata": {
        "colab": {},
        "colab_type": "code",
        "id": "_GQ-RlIAfT62"
      },
      "outputs": [],
      "source": [
        "callbacks = [\n",
        "    tf.keras.callbacks.ReduceLROnPlateau(monitor='val_loss', min_lr=1e-6),\n",
        "    tf.keras.callbacks.EarlyStopping(monitor='val_loss', patience=10),\n",
        "]"
      ]
    },
    {
      "cell_type": "code",
      "execution_count": 0,
      "metadata": {
        "colab": {
          "height": 1000
        },
        "colab_type": "code",
        "executionInfo": {
          "elapsed": 113002,
          "status": "ok",
          "timestamp": 1574346743113,
          "user": {
            "displayName": "",
            "photoUrl": "",
            "userId": ""
          },
          "user_tz": 300
        },
        "id": "-BjnHV7MWhK1",
        "outputId": "639c8e8d-dbfe-41ec-d96a-4c8b30e58eda"
      },
      "outputs": [
        {
          "name": "stdout",
          "output_type": "stream",
          "text": [
            "Train on 180145 samples, validate on 45037 samples\n",
            "Epoch 1/400\n",
            "180145/180145 - 2s - loss: 7.0981 - val_loss: 5.3484\n",
            "Epoch 2/400\n",
            "180145/180145 - 1s - loss: 4.7133 - val_loss: 4.4211\n",
            "Epoch 3/400\n",
            "180145/180145 - 1s - loss: 4.2896 - val_loss: 4.2134\n",
            "Epoch 4/400\n",
            "180145/180145 - 1s - loss: 4.1925 - val_loss: 4.1868\n",
            "Epoch 5/400\n",
            "180145/180145 - 1s - loss: 4.1803 - val_loss: 4.1819\n",
            "Epoch 6/400\n",
            "180145/180145 - 1s - loss: 4.1772 - val_loss: 4.1803\n",
            "Epoch 7/400\n",
            "180145/180145 - 1s - loss: 4.1759 - val_loss: 4.1794\n",
            "Epoch 8/400\n",
            "180145/180145 - 1s - loss: 4.1750 - val_loss: 4.1788\n",
            "Epoch 9/400\n",
            "180145/180145 - 1s - loss: 4.1741 - val_loss: 4.1779\n",
            "Epoch 10/400\n",
            "180145/180145 - 1s - loss: 4.1732 - val_loss: 4.1771\n",
            "Epoch 11/400\n",
            "180145/180145 - 1s - loss: 4.1723 - val_loss: 4.1764\n",
            "Epoch 12/400\n",
            "180145/180145 - 1s - loss: 4.1714 - val_loss: 4.1757\n",
            "Epoch 13/400\n",
            "180145/180145 - 1s - loss: 4.1708 - val_loss: 4.1750\n",
            "Epoch 14/400\n",
            "180145/180145 - 1s - loss: 4.1702 - val_loss: 4.1748\n",
            "Epoch 15/400\n",
            "180145/180145 - 1s - loss: 4.1699 - val_loss: 4.1744\n",
            "Epoch 16/400\n",
            "180145/180145 - 1s - loss: 4.1696 - val_loss: 4.1746\n",
            "Epoch 17/400\n",
            "180145/180145 - 1s - loss: 4.1694 - val_loss: 4.1742\n",
            "Epoch 18/400\n",
            "180145/180145 - 1s - loss: 4.1692 - val_loss: 4.1741\n",
            "Epoch 19/400\n",
            "180145/180145 - 1s - loss: 4.1691 - val_loss: 4.1739\n",
            "Epoch 20/400\n",
            "180145/180145 - 1s - loss: 4.1690 - val_loss: 4.1738\n",
            "Epoch 21/400\n",
            "180145/180145 - 1s - loss: 4.1688 - val_loss: 4.1738\n",
            "Epoch 22/400\n",
            "180145/180145 - 1s - loss: 4.1687 - val_loss: 4.1737\n",
            "Epoch 23/400\n",
            "180145/180145 - 1s - loss: 4.1686 - val_loss: 4.1739\n",
            "Epoch 24/400\n",
            "180145/180145 - 1s - loss: 4.1685 - val_loss: 4.1736\n",
            "Epoch 25/400\n",
            "180145/180145 - 1s - loss: 4.1683 - val_loss: 4.1734\n",
            "Epoch 26/400\n",
            "180145/180145 - 1s - loss: 4.1682 - val_loss: 4.1736\n",
            "Epoch 27/400\n",
            "180145/180145 - 1s - loss: 4.1681 - val_loss: 4.1733\n",
            "Epoch 28/400\n",
            "180145/180145 - 1s - loss: 4.1680 - val_loss: 4.1737\n",
            "Epoch 29/400\n",
            "180145/180145 - 1s - loss: 4.1678 - val_loss: 4.1732\n",
            "Epoch 30/400\n",
            "180145/180145 - 1s - loss: 4.1677 - val_loss: 4.1732\n",
            "Epoch 31/400\n",
            "180145/180145 - 1s - loss: 4.1676 - val_loss: 4.1728\n",
            "Epoch 32/400\n",
            "180145/180145 - 1s - loss: 4.1675 - val_loss: 4.1730\n",
            "Epoch 33/400\n",
            "180145/180145 - 1s - loss: 4.1673 - val_loss: 4.1728\n",
            "Epoch 34/400\n",
            "180145/180145 - 1s - loss: 4.1673 - val_loss: 4.1728\n",
            "Epoch 35/400\n",
            "180145/180145 - 1s - loss: 4.1671 - val_loss: 4.1727\n",
            "Epoch 36/400\n",
            "180145/180145 - 1s - loss: 4.1669 - val_loss: 4.1728\n",
            "Epoch 37/400\n",
            "180145/180145 - 1s - loss: 4.1669 - val_loss: 4.1726\n",
            "Epoch 38/400\n",
            "180145/180145 - 1s - loss: 4.1668 - val_loss: 4.1724\n",
            "Epoch 39/400\n",
            "180145/180145 - 1s - loss: 4.1667 - val_loss: 4.1727\n",
            "Epoch 40/400\n",
            "180145/180145 - 1s - loss: 4.1666 - val_loss: 4.1724\n",
            "Epoch 41/400\n",
            "180145/180145 - 1s - loss: 4.1664 - val_loss: 4.1723\n",
            "Epoch 42/400\n",
            "180145/180145 - 1s - loss: 4.1664 - val_loss: 4.1725\n",
            "Epoch 43/400\n",
            "180145/180145 - 1s - loss: 4.1663 - val_loss: 4.1728\n",
            "Epoch 44/400\n",
            "180145/180145 - 1s - loss: 4.1662 - val_loss: 4.1722\n",
            "Epoch 45/400\n",
            "180145/180145 - 1s - loss: 4.1661 - val_loss: 4.1723\n",
            "Epoch 46/400\n",
            "180145/180145 - 1s - loss: 4.1661 - val_loss: 4.1720\n",
            "Epoch 47/400\n",
            "180145/180145 - 1s - loss: 4.1659 - val_loss: 4.1719\n",
            "Epoch 48/400\n",
            "180145/180145 - 1s - loss: 4.1659 - val_loss: 4.1721\n",
            "Epoch 49/400\n",
            "180145/180145 - 1s - loss: 4.1659 - val_loss: 4.1720\n",
            "Epoch 50/400\n",
            "180145/180145 - 1s - loss: 4.1658 - val_loss: 4.1720\n",
            "Epoch 51/400\n",
            "180145/180145 - 1s - loss: 4.1657 - val_loss: 4.1719\n",
            "Epoch 52/400\n",
            "180145/180145 - 1s - loss: 4.1656 - val_loss: 4.1720\n",
            "Epoch 53/400\n",
            "180145/180145 - 1s - loss: 4.1656 - val_loss: 4.1718\n",
            "Epoch 54/400\n",
            "180145/180145 - 1s - loss: 4.1655 - val_loss: 4.1722\n",
            "Epoch 55/400\n",
            "180145/180145 - 1s - loss: 4.1655 - val_loss: 4.1717\n",
            "Epoch 56/400\n",
            "180145/180145 - 1s - loss: 4.1654 - val_loss: 4.1724\n",
            "Epoch 57/400\n",
            "180145/180145 - 1s - loss: 4.1654 - val_loss: 4.1717\n",
            "Epoch 58/400\n",
            "180145/180145 - 1s - loss: 4.1653 - val_loss: 4.1718\n",
            "Epoch 59/400\n",
            "180145/180145 - 1s - loss: 4.1653 - val_loss: 4.1716\n",
            "Epoch 60/400\n",
            "180145/180145 - 1s - loss: 4.1653 - val_loss: 4.1722\n",
            "Epoch 61/400\n",
            "180145/180145 - 1s - loss: 4.1652 - val_loss: 4.1716\n",
            "Epoch 62/400\n",
            "180145/180145 - 1s - loss: 4.1651 - val_loss: 4.1717\n",
            "Epoch 63/400\n",
            "180145/180145 - 1s - loss: 4.1651 - val_loss: 4.1716\n",
            "Epoch 64/400\n",
            "180145/180145 - 1s - loss: 4.1650 - val_loss: 4.1717\n",
            "Epoch 65/400\n",
            "180145/180145 - 1s - loss: 4.1650 - val_loss: 4.1714\n",
            "Epoch 66/400\n",
            "180145/180145 - 1s - loss: 4.1650 - val_loss: 4.1716\n",
            "Epoch 67/400\n",
            "180145/180145 - 1s - loss: 4.1650 - val_loss: 4.1716\n",
            "Epoch 68/400\n",
            "180145/180145 - 1s - loss: 4.1648 - val_loss: 4.1720\n",
            "Epoch 69/400\n",
            "180145/180145 - 1s - loss: 4.1650 - val_loss: 4.1721\n",
            "Epoch 70/400\n",
            "180145/180145 - 1s - loss: 4.1649 - val_loss: 4.1714\n",
            "Epoch 71/400\n",
            "180145/180145 - 1s - loss: 4.1648 - val_loss: 4.1715\n",
            "Epoch 72/400\n",
            "180145/180145 - 1s - loss: 4.1647 - val_loss: 4.1712\n",
            "Epoch 73/400\n",
            "180145/180145 - 1s - loss: 4.1647 - val_loss: 4.1717\n",
            "Epoch 74/400\n",
            "180145/180145 - 1s - loss: 4.1647 - val_loss: 4.1712\n",
            "Epoch 75/400\n",
            "180145/180145 - 1s - loss: 4.1646 - val_loss: 4.1712\n",
            "Epoch 76/400\n",
            "180145/180145 - 1s - loss: 4.1647 - val_loss: 4.1715\n",
            "Epoch 77/400\n",
            "180145/180145 - 1s - loss: 4.1646 - val_loss: 4.1713\n",
            "Epoch 78/400\n",
            "180145/180145 - 1s - loss: 4.1646 - val_loss: 4.1713\n",
            "Epoch 79/400\n",
            "180145/180145 - 1s - loss: 4.1646 - val_loss: 4.1717\n",
            "Epoch 80/400\n",
            "180145/180145 - 1s - loss: 4.1646 - val_loss: 4.1713\n",
            "Epoch 81/400\n",
            "180145/180145 - 1s - loss: 4.1644 - val_loss: 4.1714\n",
            "Epoch 82/400\n",
            "180145/180145 - 1s - loss: 4.1645 - val_loss: 4.1712\n",
            "Epoch 83/400\n",
            "180145/180145 - 1s - loss: 4.1640 - val_loss: 4.1711\n",
            "Epoch 84/400\n",
            "180145/180145 - 1s - loss: 4.1640 - val_loss: 4.1711\n",
            "Epoch 85/400\n",
            "180145/180145 - 1s - loss: 4.1640 - val_loss: 4.1712\n",
            "Epoch 86/400\n",
            "180145/180145 - 1s - loss: 4.1640 - val_loss: 4.1711\n",
            "Epoch 87/400\n",
            "180145/180145 - 1s - loss: 4.1640 - val_loss: 4.1711\n",
            "Epoch 88/400\n",
            "180145/180145 - 1s - loss: 4.1640 - val_loss: 4.1711\n",
            "Epoch 89/400\n",
            "180145/180145 - 1s - loss: 4.1640 - val_loss: 4.1711\n",
            "Epoch 90/400\n",
            "180145/180145 - 1s - loss: 4.1640 - val_loss: 4.1711\n",
            "Epoch 91/400\n",
            "180145/180145 - 1s - loss: 4.1640 - val_loss: 4.1711\n",
            "Epoch 92/400\n",
            "180145/180145 - 1s - loss: 4.1640 - val_loss: 4.1712\n",
            "Epoch 93/400\n",
            "180145/180145 - 1s - loss: 4.1640 - val_loss: 4.1711\n",
            "Epoch 94/400\n",
            "180145/180145 - 1s - loss: 4.1639 - val_loss: 4.1711\n",
            "Epoch 95/400\n",
            "180145/180145 - 1s - loss: 4.1639 - val_loss: 4.1711\n",
            "Epoch 96/400\n",
            "180145/180145 - 1s - loss: 4.1639 - val_loss: 4.1711\n",
            "Epoch 97/400\n",
            "180145/180145 - 1s - loss: 4.1639 - val_loss: 4.1711\n",
            "Epoch 98/400\n",
            "180145/180145 - 1s - loss: 4.1639 - val_loss: 4.1711\n",
            "Epoch 99/400\n",
            "180145/180145 - 1s - loss: 4.1639 - val_loss: 4.1711\n"
          ]
        }
      ],
      "source": [
        "history = model.fit(\n",
        "    x=x_train,\n",
        "    y=y_train,\n",
        "    batch_size=1024,\n",
        "    epochs=EPOCHS,\n",
        "    verbose=2,\n",
        "    callbacks=callbacks,\n",
        "    validation_data=(x_eval, y_eval)).history"
      ]
    },
    {
      "cell_type": "code",
      "execution_count": 0,
      "metadata": {
        "colab": {
          "height": 296
        },
        "colab_type": "code",
        "executionInfo": {
          "elapsed": 702,
          "status": "ok",
          "timestamp": 1574346743847,
          "user": {
            "displayName": "",
            "photoUrl": "",
            "userId": ""
          },
          "user_tz": 300
        },
        "id": "mAJGs5SebDeN",
        "outputId": "b1598221-b208-4f49-8dba-abd3a1029eed"
      },
      "outputs": [
        {
          "data": {
            "text/plain": [
              "\u003cmatplotlib.axes._subplots.AxesSubplot at 0x35d62b4e8fd0\u003e"
            ]
          },
          "execution_count": 21,
          "metadata": {
            "tags": []
          },
          "output_type": "execute_result"
        },
        {
          "data": {
            "image/png": "[encoded data removed]",
            "text/plain": [
              "\u003cmatplotlib.figure.Figure at 0x29cebefed710\u003e"
            ]
          },
          "metadata": {
            "image/png": {
              "height": 262,
              "width": 383
            },
            "tags": []
          },
          "output_type": "display_data"
        }
      ],
      "source": [
        "pd.DataFrame(history)[['loss', 'val_loss']][2:].plot()"
      ]
    },
    {
      "cell_type": "markdown",
      "metadata": {
        "colab_type": "text",
        "id": "bHaiutmy2aYm"
      },
      "source": [
        "### Eval"
      ]
    },
    {
      "cell_type": "code",
      "execution_count": 0,
      "metadata": {
        "colab": {},
        "colab_type": "code",
        "id": "l6E_5gYAYQMw"
      },
      "outputs": [],
      "source": [
        "if LOSS == 'mse':\n",
        "  y_pred = model.predict(x=x_eval, batch_size=1024).flatten()\n",
        "\n",
        "if LOSS == 'ziln':\n",
        "  logits = model.predict(x=x_eval, batch_size=1024)\n",
        "  y_pred = ltv.zero_inflated_lognormal_pred(logits).numpy().flatten()"
      ]
    },
    {
      "cell_type": "code",
      "execution_count": 0,
      "metadata": {
        "colab": {
          "height": 343
        },
        "colab_type": "code",
        "executionInfo": {
          "elapsed": 36,
          "status": "ok",
          "timestamp": 1574346744090,
          "user": {
            "displayName": "",
            "photoUrl": "",
            "userId": ""
          },
          "user_tz": 300
        },
        "id": "Mm28qKSGXNyr",
        "outputId": "694e4c0f-0f11-4e8c-8916-e8ceaabea80a"
      },
      "outputs": [
        {
          "data": {
            "text/html": [
              "\u003cdiv\u003e\n",
              "\u003cstyle scoped\u003e\n",
              "    .dataframe tbody tr th:only-of-type {\n",
              "        vertical-align: middle;\n",
              "    }\n",
              "\n",
              "    .dataframe tbody tr th {\n",
              "        vertical-align: top;\n",
              "    }\n",
              "\n",
              "    .dataframe thead th {\n",
              "        text-align: right;\n",
              "    }\n",
              "\u003c/style\u003e\n",
              "\u003ctable border=\"1\" class=\"dataframe\"\u003e\n",
              "  \u003cthead\u003e\n",
              "    \u003ctr style=\"text-align: right;\"\u003e\n",
              "      \u003cth\u003e\u003c/th\u003e\n",
              "      \u003cth\u003ey_pred\u003c/th\u003e\n",
              "      \u003cth\u003ey_true\u003c/th\u003e\n",
              "    \u003c/tr\u003e\n",
              "  \u003c/thead\u003e\n",
              "  \u003ctbody\u003e\n",
              "    \u003ctr\u003e\n",
              "      \u003cth\u003e0\u003c/th\u003e\n",
              "      \u003ctd\u003e18.185350\u003c/td\u003e\n",
              "      \u003ctd\u003e1.57\u003c/td\u003e\n",
              "    \u003c/tr\u003e\n",
              "    \u003ctr\u003e\n",
              "      \u003cth\u003e1\u003c/th\u003e\n",
              "      \u003ctd\u003e20.422848\u003c/td\u003e\n",
              "      \u003ctd\u003e23.16\u003c/td\u003e\n",
              "    \u003c/tr\u003e\n",
              "    \u003ctr\u003e\n",
              "      \u003cth\u003e2\u003c/th\u003e\n",
              "      \u003ctd\u003e240.908432\u003c/td\u003e\n",
              "      \u003ctd\u003e252.28\u003c/td\u003e\n",
              "    \u003c/tr\u003e\n",
              "    \u003ctr\u003e\n",
              "      \u003cth\u003e3\u003c/th\u003e\n",
              "      \u003ctd\u003e35.072281\u003c/td\u003e\n",
              "      \u003ctd\u003e5.49\u003c/td\u003e\n",
              "    \u003c/tr\u003e\n",
              "    \u003ctr\u003e\n",
              "      \u003cth\u003e4\u003c/th\u003e\n",
              "      \u003ctd\u003e47.286964\u003c/td\u003e\n",
              "      \u003ctd\u003e3.69\u003c/td\u003e\n",
              "    \u003c/tr\u003e\n",
              "    \u003ctr\u003e\n",
              "      \u003cth\u003e5\u003c/th\u003e\n",
              "      \u003ctd\u003e13.456080\u003c/td\u003e\n",
              "      \u003ctd\u003e2.48\u003c/td\u003e\n",
              "    \u003c/tr\u003e\n",
              "    \u003ctr\u003e\n",
              "      \u003cth\u003e6\u003c/th\u003e\n",
              "      \u003ctd\u003e31.121714\u003c/td\u003e\n",
              "      \u003ctd\u003e45.31\u003c/td\u003e\n",
              "    \u003c/tr\u003e\n",
              "    \u003ctr\u003e\n",
              "      \u003cth\u003e7\u003c/th\u003e\n",
              "      \u003ctd\u003e15.125760\u003c/td\u003e\n",
              "      \u003ctd\u003e30.95\u003c/td\u003e\n",
              "    \u003c/tr\u003e\n",
              "    \u003ctr\u003e\n",
              "      \u003cth\u003e8\u003c/th\u003e\n",
              "      \u003ctd\u003e21.852407\u003c/td\u003e\n",
              "      \u003ctd\u003e11.94\u003c/td\u003e\n",
              "    \u003c/tr\u003e\n",
              "    \u003ctr\u003e\n",
              "      \u003cth\u003e9\u003c/th\u003e\n",
              "      \u003ctd\u003e55.407394\u003c/td\u003e\n",
              "      \u003ctd\u003e40.55\u003c/td\u003e\n",
              "    \u003c/tr\u003e\n",
              "  \u003c/tbody\u003e\n",
              "\u003c/table\u003e\n",
              "\u003c/div\u003e"
            ],
            "text/plain": [
              "       y_pred  y_true\n",
              "0   18.185350    1.57\n",
              "1   20.422848   23.16\n",
              "2  240.908432  252.28\n",
              "3   35.072281    5.49\n",
              "4   47.286964    3.69\n",
              "5   13.456080    2.48\n",
              "6   31.121714   45.31\n",
              "7   15.125760   30.95\n",
              "8   21.852407   11.94\n",
              "9   55.407394   40.55"
            ]
          },
          "execution_count": 23,
          "metadata": {
            "tags": []
          },
          "output_type": "execute_result"
        }
      ],
      "source": [
        "df_pred = pd.DataFrame({\n",
        "    'y_true': y_eval,\n",
        "    'y_pred': y_pred,\n",
        "})\n",
        "df_pred.head(10)"
      ]
    },
    {
      "cell_type": "markdown",
      "metadata": {
        "colab_type": "text",
        "id": "zROhsEWxnA5u"
      },
      "source": [
        "### Gini Coefficient"
      ]
    },
    {
      "cell_type": "code",
      "execution_count": 0,
      "metadata": {
        "colab": {},
        "colab_type": "code",
        "id": "gRsJ7y-632h_"
      },
      "outputs": [],
      "source": [
        "gain = pd.DataFrame({\n",
        "    'lorenz': ltv.cumulative_true(y_eval, y_eval),\n",
        "    'baseline': ltv.cumulative_true(y_eval, y0_eval),\n",
        "    'model': ltv.cumulative_true(y_eval, y_pred),\n",
        "})"
      ]
    },
    {
      "cell_type": "code",
      "execution_count": 0,
      "metadata": {
        "colab": {},
        "colab_type": "code",
        "id": "yg-ndbve4AL_"
      },
      "outputs": [],
      "source": [
        "num_customers = np.float32(gain.shape[0])\n",
        "gain['cumulative_customer'] = (np.arange(num_customers) + 1.) / num_customers"
      ]
    },
    {
      "cell_type": "code",
      "execution_count": 0,
      "metadata": {
        "colab": {
          "height": 378
        },
        "colab_type": "code",
        "executionInfo": {
          "elapsed": 210,
          "status": "ok",
          "timestamp": 1574346744724,
          "user": {
            "displayName": "",
            "photoUrl": "",
            "userId": ""
          },
          "user_tz": 300
        },
        "id": "WEoAvuCj4OVy",
        "outputId": "aa45fef7-a60e-4c05-9028-dd4bb845d817"
      },
      "outputs": [
        {
          "data": {
            "text/plain": [
              "\u003cmatplotlib.text.Text at 0x35d62c2bfa90\u003e"
            ]
          },
          "execution_count": 26,
          "metadata": {
            "tags": []
          },
          "output_type": "execute_result"
        },
        {
          "data": {
            "image/png": "[encoded data removed]",
            "text/plain": [
              "\u003cmatplotlib.figure.Figure at 0x35d5b2e9f890\u003e"
            ]
          },
          "metadata": {
            "image/png": {
              "height": 344,
              "width": 514
            },
            "tags": []
          },
          "output_type": "display_data"
        }
      ],
      "source": [
        "ax = gain[[\n",
        "    'cumulative_customer',\n",
        "    'lorenz',\n",
        "    'baseline',\n",
        "    'model',\n",
        "]].plot(\n",
        "    x='cumulative_customer', figsize=(8, 5), legend=True)\n",
        "\n",
        "ax.legend(['Groundtruth', 'Baseline', 'Model'], loc='upper left')\n",
        "\n",
        "ax.set_xlabel('Cumulative Fraction of Customers')\n",
        "ax.set_xticks(np.arange(0, 1.1, 0.1))\n",
        "ax.set_xlim((0, 1.))\n",
        "\n",
        "ax.set_ylabel('Cumulative Fraction of Total Lifetime Value')\n",
        "ax.set_yticks(np.arange(0, 1.1, 0.1))\n",
        "ax.set_ylim((0, 1.05))\n",
        "ax.set_title('Gain Chart')"
      ]
    },
    {
      "cell_type": "code",
      "execution_count": 0,
      "metadata": {
        "colab": {
          "height": 136
        },
        "colab_type": "code",
        "executionInfo": {
          "elapsed": 34,
          "status": "ok",
          "timestamp": 1574346744785,
          "user": {
            "displayName": "",
            "photoUrl": "",
            "userId": ""
          },
          "user_tz": 300
        },
        "id": "kzPqaiNO4iWC",
        "outputId": "1582c32f-1590-4b24-f96e-3cdf1cd4a242"
      },
      "outputs": [
        {
          "data": {
            "text/html": [
              "\u003cdiv\u003e\n",
              "\u003cstyle scoped\u003e\n",
              "    .dataframe tbody tr th:only-of-type {\n",
              "        vertical-align: middle;\n",
              "    }\n",
              "\n",
              "    .dataframe tbody tr th {\n",
              "        vertical-align: top;\n",
              "    }\n",
              "\n",
              "    .dataframe thead th {\n",
              "        text-align: right;\n",
              "    }\n",
              "\u003c/style\u003e\n",
              "\u003ctable border=\"1\" class=\"dataframe\"\u003e\n",
              "  \u003cthead\u003e\n",
              "    \u003ctr style=\"text-align: right;\"\u003e\n",
              "      \u003cth\u003e\u003c/th\u003e\n",
              "      \u003cth\u003eraw\u003c/th\u003e\n",
              "      \u003cth\u003enormalized\u003c/th\u003e\n",
              "    \u003c/tr\u003e\n",
              "  \u003c/thead\u003e\n",
              "  \u003ctbody\u003e\n",
              "    \u003ctr\u003e\n",
              "      \u003cth\u003elorenz\u003c/th\u003e\n",
              "      \u003ctd\u003e0.706898\u003c/td\u003e\n",
              "      \u003ctd\u003e1.000000\u003c/td\u003e\n",
              "    \u003c/tr\u003e\n",
              "    \u003ctr\u003e\n",
              "      \u003cth\u003ebaseline\u003c/th\u003e\n",
              "      \u003ctd\u003e0.290024\u003c/td\u003e\n",
              "      \u003ctd\u003e0.410277\u003c/td\u003e\n",
              "    \u003c/tr\u003e\n",
              "    \u003ctr\u003e\n",
              "      \u003cth\u003emodel\u003c/th\u003e\n",
              "      \u003ctd\u003e0.325384\u003c/td\u003e\n",
              "      \u003ctd\u003e0.460298\u003c/td\u003e\n",
              "    \u003c/tr\u003e\n",
              "  \u003c/tbody\u003e\n",
              "\u003c/table\u003e\n",
              "\u003c/div\u003e"
            ],
            "text/plain": [
              "               raw  normalized\n",
              "lorenz    0.706898    1.000000\n",
              "baseline  0.290024    0.410277\n",
              "model     0.325384    0.460298"
            ]
          },
          "execution_count": 27,
          "metadata": {
            "tags": []
          },
          "output_type": "execute_result"
        }
      ],
      "source": [
        "gini = ltv.gini_from_gain(gain[['lorenz', 'baseline', 'model']])\n",
        "gini"
      ]
    },
    {
      "cell_type": "markdown",
      "metadata": {
        "colab_type": "text",
        "id": "S84RitIa9PBu"
      },
      "source": [
        "### Calibration"
      ]
    },
    {
      "cell_type": "code",
      "execution_count": 0,
      "metadata": {
        "colab": {
          "height": 373
        },
        "colab_type": "code",
        "executionInfo": {
          "elapsed": 67,
          "status": "ok",
          "timestamp": 1574346744874,
          "user": {
            "displayName": "",
            "photoUrl": "",
            "userId": ""
          },
          "user_tz": 300
        },
        "id": "X7sKbsEf6RvF",
        "outputId": "2155c7ef-918b-4010-b211-32803da726ed"
      },
      "outputs": [
        {
          "data": {
            "text/html": [
              "\u003cdiv\u003e\n",
              "\u003cstyle scoped\u003e\n",
              "    .dataframe tbody tr th:only-of-type {\n",
              "        vertical-align: middle;\n",
              "    }\n",
              "\n",
              "    .dataframe tbody tr th {\n",
              "        vertical-align: top;\n",
              "    }\n",
              "\n",
              "    .dataframe thead th {\n",
              "        text-align: right;\n",
              "    }\n",
              "\u003c/style\u003e\n",
              "\u003ctable border=\"1\" class=\"dataframe\"\u003e\n",
              "  \u003cthead\u003e\n",
              "    \u003ctr style=\"text-align: right;\"\u003e\n",
              "      \u003cth\u003e\u003c/th\u003e\n",
              "      \u003cth\u003elabel_mean\u003c/th\u003e\n",
              "      \u003cth\u003enormalized_mae\u003c/th\u003e\n",
              "      \u003cth\u003enormalized_rmse\u003c/th\u003e\n",
              "      \u003cth\u003epred_mean\u003c/th\u003e\n",
              "      \u003cth\u003edecile_mape\u003c/th\u003e\n",
              "    \u003c/tr\u003e\n",
              "    \u003ctr\u003e\n",
              "      \u003cth\u003edecile\u003c/th\u003e\n",
              "      \u003cth\u003e\u003c/th\u003e\n",
              "      \u003cth\u003e\u003c/th\u003e\n",
              "      \u003cth\u003e\u003c/th\u003e\n",
              "      \u003cth\u003e\u003c/th\u003e\n",
              "      \u003cth\u003e\u003c/th\u003e\n",
              "    \u003c/tr\u003e\n",
              "  \u003c/thead\u003e\n",
              "  \u003ctbody\u003e\n",
              "    \u003ctr\u003e\n",
              "      \u003cth\u003e0\u003c/th\u003e\n",
              "      \u003ctd\u003e13.681039\u003c/td\u003e\n",
              "      \u003ctd\u003e1.113830\u003c/td\u003e\n",
              "      \u003ctd\u003e2.491969\u003c/td\u003e\n",
              "      \u003ctd\u003e12.661569\u003c/td\u003e\n",
              "      \u003ctd\u003e0.074517\u003c/td\u003e\n",
              "    \u003c/tr\u003e\n",
              "    \u003ctr\u003e\n",
              "      \u003cth\u003e1\u003c/th\u003e\n",
              "      \u003ctd\u003e20.310737\u003c/td\u003e\n",
              "      \u003ctd\u003e1.056633\u003c/td\u003e\n",
              "      \u003ctd\u003e2.121411\u003c/td\u003e\n",
              "      \u003ctd\u003e19.333267\u003c/td\u003e\n",
              "      \u003ctd\u003e0.048126\u003c/td\u003e\n",
              "    \u003c/tr\u003e\n",
              "    \u003ctr\u003e\n",
              "      \u003cth\u003e2\u003c/th\u003e\n",
              "      \u003ctd\u003e22.728945\u003c/td\u003e\n",
              "      \u003ctd\u003e1.040487\u003c/td\u003e\n",
              "      \u003ctd\u003e1.855777\u003c/td\u003e\n",
              "      \u003ctd\u003e23.199310\u003c/td\u003e\n",
              "      \u003ctd\u003e0.020695\u003c/td\u003e\n",
              "    \u003c/tr\u003e\n",
              "    \u003ctr\u003e\n",
              "      \u003cth\u003e3\u003c/th\u003e\n",
              "      \u003ctd\u003e25.441446\u003c/td\u003e\n",
              "      \u003ctd\u003e1.036384\u003c/td\u003e\n",
              "      \u003ctd\u003e1.613740\u003c/td\u003e\n",
              "      \u003ctd\u003e27.419205\u003c/td\u003e\n",
              "      \u003ctd\u003e0.077738\u003c/td\u003e\n",
              "    \u003c/tr\u003e\n",
              "    \u003ctr\u003e\n",
              "      \u003cth\u003e4\u003c/th\u003e\n",
              "      \u003ctd\u003e30.961781\u003c/td\u003e\n",
              "      \u003ctd\u003e0.981437\u003c/td\u003e\n",
              "      \u003ctd\u003e1.713931\u003c/td\u003e\n",
              "      \u003ctd\u003e31.107035\u003c/td\u003e\n",
              "      \u003ctd\u003e0.004691\u003c/td\u003e\n",
              "    \u003c/tr\u003e\n",
              "    \u003ctr\u003e\n",
              "      \u003cth\u003e5\u003c/th\u003e\n",
              "      \u003ctd\u003e35.221345\u003c/td\u003e\n",
              "      \u003ctd\u003e0.984319\u003c/td\u003e\n",
              "      \u003ctd\u003e1.686755\u003c/td\u003e\n",
              "      \u003ctd\u003e35.173012\u003c/td\u003e\n",
              "      \u003ctd\u003e0.001372\u003c/td\u003e\n",
              "    \u003c/tr\u003e\n",
              "    \u003ctr\u003e\n",
              "      \u003cth\u003e6\u003c/th\u003e\n",
              "      \u003ctd\u003e37.128378\u003c/td\u003e\n",
              "      \u003ctd\u003e0.998047\u003c/td\u003e\n",
              "      \u003ctd\u003e1.819248\u003c/td\u003e\n",
              "      \u003ctd\u003e39.990730\u003c/td\u003e\n",
              "      \u003ctd\u003e0.077093\u003c/td\u003e\n",
              "    \u003c/tr\u003e\n",
              "    \u003ctr\u003e\n",
              "      \u003cth\u003e7\u003c/th\u003e\n",
              "      \u003ctd\u003e43.696324\u003c/td\u003e\n",
              "      \u003ctd\u003e0.978155\u003c/td\u003e\n",
              "      \u003ctd\u003e1.530850\u003c/td\u003e\n",
              "      \u003ctd\u003e47.477573\u003c/td\u003e\n",
              "      \u003ctd\u003e0.086535\u003c/td\u003e\n",
              "    \u003c/tr\u003e\n",
              "    \u003ctr\u003e\n",
              "      \u003cth\u003e8\u003c/th\u003e\n",
              "      \u003ctd\u003e55.142434\u003c/td\u003e\n",
              "      \u003ctd\u003e0.986490\u003c/td\u003e\n",
              "      \u003ctd\u003e2.435485\u003c/td\u003e\n",
              "      \u003ctd\u003e61.094627\u003c/td\u003e\n",
              "      \u003ctd\u003e0.107942\u003c/td\u003e\n",
              "    \u003c/tr\u003e\n",
              "    \u003ctr\u003e\n",
              "      \u003cth\u003e9\u003c/th\u003e\n",
              "      \u003ctd\u003e108.951192\u003c/td\u003e\n",
              "      \u003ctd\u003e0.987306\u003c/td\u003e\n",
              "      \u003ctd\u003e3.273232\u003c/td\u003e\n",
              "      \u003ctd\u003e116.391296\u003c/td\u003e\n",
              "      \u003ctd\u003e0.068288\u003c/td\u003e\n",
              "    \u003c/tr\u003e\n",
              "  \u003c/tbody\u003e\n",
              "\u003c/table\u003e\n",
              "\u003c/div\u003e"
            ],
            "text/plain": [
              "        label_mean  normalized_mae  normalized_rmse   pred_mean  decile_mape\n",
              "decile                                                                      \n",
              "0        13.681039        1.113830         2.491969   12.661569     0.074517\n",
              "1        20.310737        1.056633         2.121411   19.333267     0.048126\n",
              "2        22.728945        1.040487         1.855777   23.199310     0.020695\n",
              "3        25.441446        1.036384         1.613740   27.419205     0.077738\n",
              "4        30.961781        0.981437         1.713931   31.107035     0.004691\n",
              "5        35.221345        0.984319         1.686755   35.173012     0.001372\n",
              "6        37.128378        0.998047         1.819248   39.990730     0.077093\n",
              "7        43.696324        0.978155         1.530850   47.477573     0.086535\n",
              "8        55.142434        0.986490         2.435485   61.094627     0.107942\n",
              "9       108.951192        0.987306         3.273232  116.391296     0.068288"
            ]
          },
          "execution_count": 28,
          "metadata": {
            "tags": []
          },
          "output_type": "execute_result"
        }
      ],
      "source": [
        "df_decile = ltv.decile_stats(y_eval, y_pred)\n",
        "df_decile"
      ]
    },
    {
      "cell_type": "code",
      "execution_count": 0,
      "metadata": {
        "colab": {
          "height": 323
        },
        "colab_type": "code",
        "executionInfo": {
          "elapsed": 152,
          "status": "ok",
          "timestamp": 1574346745047,
          "user": {
            "displayName": "",
            "photoUrl": "",
            "userId": ""
          },
          "user_tz": 300
        },
        "id": "DHdLqUqdL4hf",
        "outputId": "149f8eda-5b5b-4d2e-8727-f93f0ea52784"
      },
      "outputs": [
        {
          "data": {
            "text/plain": [
              "\u003cmatplotlib.legend.Legend at 0x35d62a723d90\u003e"
            ]
          },
          "execution_count": 29,
          "metadata": {
            "tags": []
          },
          "output_type": "execute_result"
        },
        {
          "data": {
            "image/png": "[encoded data removed]",
            "text/plain": [
              "\u003cmatplotlib.figure.Figure at 0x35d62a7237d0\u003e"
            ]
          },
          "metadata": {
            "image/png": {
              "height": 289,
              "width": 397
            },
            "tags": []
          },
          "output_type": "display_data"
        }
      ],
      "source": [
        "ax = df_decile[['label_mean', 'pred_mean']].plot.bar(rot=0)\n",
        "\n",
        "ax.set_title('Decile Chart')\n",
        "ax.set_xlabel('Prediction bucket')\n",
        "ax.set_ylabel('Average bucket value')\n",
        "ax.legend(['Label', 'Prediction'], loc='upper left')"
      ]
    },
    {
      "cell_type": "markdown",
      "metadata": {
        "colab_type": "text",
        "id": "nK6DQ89xU-d4"
      },
      "source": [
        "### Rank Correlation"
      ]
    },
    {
      "cell_type": "code",
      "execution_count": 0,
      "metadata": {
        "colab": {
          "height": 34
        },
        "colab_type": "code",
        "executionInfo": {
          "elapsed": 33,
          "status": "ok",
          "timestamp": 1574346745103,
          "user": {
            "displayName": "",
            "photoUrl": "",
            "userId": ""
          },
          "user_tz": 300
        },
        "id": "I9qWGyY3WePz",
        "outputId": "c4ab6092-a0bb-4724-c3c4-5e85199a4a82"
      },
      "outputs": [
        {
          "data": {
            "text/plain": [
              "0.31160782761223393"
            ]
          },
          "execution_count": 30,
          "metadata": {
            "tags": []
          },
          "output_type": "execute_result"
        }
      ],
      "source": [
        "def spearmanr(x1: Sequence[float], x2: Sequence[float]) -\u003e float:\n",
        "  \"\"\"Calculates spearmanr rank correlation coefficient.\n",
        "\n",
        "  See https://docs.scipy.org/doc/scipy/reference/stats.html.\n",
        "\n",
        "  Args:\n",
        "    x1: 1D array_like.\n",
        "    x2: 1D array_like.\n",
        "\n",
        "  Returns:\n",
        "    correlation: float.\n",
        "  \"\"\"\n",
        "  return stats.spearmanr(x1, x2, nan_policy='raise')[0]\n",
        "\n",
        "\n",
        "spearman_corr = spearmanr(y_eval, y_pred)\n",
        "spearman_corr"
      ]
    },
    {
      "cell_type": "markdown",
      "metadata": {
        "colab_type": "text",
        "id": "-i_AbqhXcurk"
      },
      "source": [
        "### All metrics together"
      ]
    },
    {
      "cell_type": "code",
      "execution_count": 0,
      "metadata": {
        "colab": {},
        "colab_type": "code",
        "id": "Umqg1-0Bc1HS"
      },
      "outputs": [],
      "source": [
        "df_metrics = pd.DataFrame(\n",
        "    {\n",
        "        'company': COMPANY,\n",
        "        'model': MODEL,\n",
        "        'loss': LOSS,\n",
        "        'label_mean': y_eval.mean(),\n",
        "        'pred_mean': y_pred.mean(),\n",
        "        'label_positive': np.mean(y_eval \u003e 0),\n",
        "        'decile_mape': df_decile['decile_mape'].mean(),\n",
        "        'baseline_gini': gini['normalized'][1],\n",
        "        'gini': gini['normalized'][2],\n",
        "        'spearman_corr': spearman_corr,\n",
        "    },\n",
        "    index=[0])"
      ]
    },
    {
      "cell_type": "code",
      "execution_count": 0,
      "metadata": {
        "colab": {
          "height": 77
        },
        "colab_type": "code",
        "executionInfo": {
          "elapsed": 40,
          "status": "ok",
          "timestamp": 1574346745212,
          "user": {
            "displayName": "",
            "photoUrl": "",
            "userId": ""
          },
          "user_tz": 300
        },
        "id": "1LV1Hs3xcxnd",
        "outputId": "8f610d44-3153-43be-f1a3-8eab828714cc"
      },
      "outputs": [
        {
          "data": {
            "text/html": [
              "\u003cdiv\u003e\n",
              "\u003cstyle scoped\u003e\n",
              "    .dataframe tbody tr th:only-of-type {\n",
              "        vertical-align: middle;\n",
              "    }\n",
              "\n",
              "    .dataframe tbody tr th {\n",
              "        vertical-align: top;\n",
              "    }\n",
              "\n",
              "    .dataframe thead th {\n",
              "        text-align: right;\n",
              "    }\n",
              "\u003c/style\u003e\n",
              "\u003ctable border=\"1\" class=\"dataframe\"\u003e\n",
              "  \u003cthead\u003e\n",
              "    \u003ctr style=\"text-align: right;\"\u003e\n",
              "      \u003cth\u003e\u003c/th\u003e\n",
              "      \u003cth\u003ecompany\u003c/th\u003e\n",
              "      \u003cth\u003emodel\u003c/th\u003e\n",
              "      \u003cth\u003eloss\u003c/th\u003e\n",
              "      \u003cth\u003elabel_mean\u003c/th\u003e\n",
              "      \u003cth\u003epred_mean\u003c/th\u003e\n",
              "      \u003cth\u003elabel_positive\u003c/th\u003e\n",
              "      \u003cth\u003edecile_mape\u003c/th\u003e\n",
              "      \u003cth\u003ebaseline_gini\u003c/th\u003e\n",
              "      \u003cth\u003egini\u003c/th\u003e\n",
              "      \u003cth\u003espearman_corr\u003c/th\u003e\n",
              "    \u003c/tr\u003e\n",
              "  \u003c/thead\u003e\n",
              "  \u003ctbody\u003e\n",
              "    \u003ctr\u003e\n",
              "      \u003cth\u003e0\u003c/th\u003e\n",
              "      \u003ctd\u003e103600030\u003c/td\u003e\n",
              "      \u003ctd\u003ednn\u003c/td\u003e\n",
              "      \u003ctd\u003eziln\u003c/td\u003e\n",
              "      \u003ctd\u003e39.295242\u003c/td\u003e\n",
              "      \u003ctd\u003e41.35421\u003c/td\u003e\n",
              "      \u003ctd\u003e0.774563\u003c/td\u003e\n",
              "      \u003ctd\u003e0.0567\u003c/td\u003e\n",
              "      \u003ctd\u003e0.410277\u003c/td\u003e\n",
              "      \u003ctd\u003e0.460298\u003c/td\u003e\n",
              "      \u003ctd\u003e0.311608\u003c/td\u003e\n",
              "    \u003c/tr\u003e\n",
              "  \u003c/tbody\u003e\n",
              "\u003c/table\u003e\n",
              "\u003c/div\u003e"
            ],
            "text/plain": [
              "     company model  loss  label_mean  pred_mean  label_positive  decile_mape  baseline_gini      gini  spearman_corr\n",
              "0  103600030   dnn  ziln   39.295242   41.35421        0.774563       0.0567       0.410277  0.460298       0.311608"
            ]
          },
          "execution_count": 32,
          "metadata": {
            "tags": []
          },
          "output_type": "execute_result"
        }
      ],
      "source": [
        "df_metrics[[\n",
        "    'company',\n",
        "    'model',\n",
        "    'loss',\n",
        "    'label_mean',\n",
        "    'pred_mean',\n",
        "    'label_positive',\n",
        "    'decile_mape',\n",
        "    'baseline_gini',\n",
        "    'gini',\n",
        "    'spearman_corr',\n",
        "]]"
      ]
    },
    {
      "cell_type": "markdown",
      "metadata": {
        "colab_type": "text",
        "id": "UVy6lYn4mSrj"
      },
      "source": [
        "## Save"
      ]
    },
    {
      "cell_type": "code",
      "execution_count": 0,
      "metadata": {
        "colab": {},
        "colab_type": "code",
        "id": "mtkQ4mqUEFsb"
      },
      "outputs": [],
      "source": [
        "output_path = os.path.join(OUTPUT_CSV_FOLDER, COMPANY)"
      ]
    },
    {
      "cell_type": "code",
      "execution_count": 0,
      "metadata": {
        "colab": {},
        "colab_type": "code",
        "id": "3qmLzJqOEFsm"
      },
      "outputs": [],
      "source": [
        "if not os.path.isdir(output_path):\n",
        "  os.makedirs(output_path)"
      ]
    },
    {
      "cell_type": "code",
      "execution_count": 0,
      "metadata": {
        "colab": {},
        "colab_type": "code",
        "id": "61B5Zc_UEFsr"
      },
      "outputs": [],
      "source": [
        "output_file = os.path.join(output_path,\n",
        "                           '{}_regression_{}.csv'.format(MODEL, LOSS))"
      ]
    },
    {
      "cell_type": "code",
      "execution_count": 0,
      "metadata": {
        "colab": {},
        "colab_type": "code",
        "id": "gqglbXfwEFsv"
      },
      "outputs": [],
      "source": [
        "df_metrics.to_csv(output_file, index=False)"
      ]
    }
  ],
  "metadata": {
    "colab": {
      "collapsed_sections": [],
      "last_runtime": {
        "build_target": "",
        "kind": "local"
      },
      "name": "regression.ipynb",
      "provenance": []
    },
    "kernelspec": {
      "display_name": "Python 2",
      "name": "python2"
    }
  },
  "nbformat": 4,
  "nbformat_minor": 0
}
